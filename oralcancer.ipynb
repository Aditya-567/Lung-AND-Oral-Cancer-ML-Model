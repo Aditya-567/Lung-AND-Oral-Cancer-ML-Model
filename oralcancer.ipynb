{
  "nbformat": 4,
  "nbformat_minor": 0,
  "metadata": {
    "colab": {
      "provenance": [],
      "toc_visible": true,
      "mount_file_id": "https://github.com/Aditya-567/Oral-Cancer-ML-Model/blob/lextrone/oralcancer.ipynb",
      "authorship_tag": "ABX9TyPwr9Gpu1YhCda48fgjucTZ",
      "include_colab_link": true
    },
    "kernelspec": {
      "name": "python3",
      "display_name": "Python 3"
    },
    "language_info": {
      "name": "python"
    }
  },
  "cells": [
    {
      "cell_type": "markdown",
      "metadata": {
        "id": "view-in-github",
        "colab_type": "text"
      },
      "source": [
        "<a href=\"https://colab.research.google.com/github/Aditya-567/Oral-Cancer-ML-Model/blob/lextrone/oralcancer.ipynb\" target=\"_parent\"><img src=\"https://colab.research.google.com/assets/colab-badge.svg\" alt=\"Open In Colab\"/></a>"
      ]
    },
    {
      "cell_type": "markdown",
      "source": [
        "Oral-Cancer Prediction\n",
        "\n",
        "\n",
        "This notebook contains code for all the models used for project"
      ],
      "metadata": {
        "id": "r7zkPm5gxeXo"
      }
    },
    {
      "cell_type": "code",
      "source": [],
      "metadata": {
        "id": "xlMYq6guxq8G"
      },
      "execution_count": null,
      "outputs": []
    },
    {
      "cell_type": "markdown",
      "source": [
        "STEP 1-importing essential libraries\n",
        "\n",
        "\n",
        "tensorflow is a deep learning framework suitable for applications involving neural networks.\n",
        "\n",
        "using tensorflow we can build,train,evaluate and predict our neural network."
      ],
      "metadata": {
        "id": "NjjBtwaGyqFN"
      }
    },
    {
      "cell_type": "code",
      "source": [
        "import tensorflow as tf\n",
        "import numpy as np\n",
        "import matplotlib.pyplot as plt\n",
        "from tensorflow.keras.layers import *\n",
        "from tensorflow.keras.models import *\n",
        "from tensorflow.keras.preprocessing import image"
      ],
      "metadata": {
        "id": "gsg0Gzt4y-wK"
      },
      "execution_count": 1,
      "outputs": []
    },
    {
      "cell_type": "code",
      "source": [
        "train_set='../input/dataset/train'\n",
        "val_set='../input/dataset/val'\n",
        "test_set='../input/dataset/test'"
      ],
      "metadata": {
        "id": "UeO7mn4PzWRX"
      },
      "execution_count": 2,
      "outputs": []
    }
  ]
}