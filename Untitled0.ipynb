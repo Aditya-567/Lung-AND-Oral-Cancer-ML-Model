{
  "nbformat": 4,
  "nbformat_minor": 0,
  "metadata": {
    "colab": {
      "provenance": [],
      "gpuType": "T4",
      "authorship_tag": "ABX9TyPdBnoxKi0axUyH5fwnNnsd",
      "include_colab_link": true
    },
    "kernelspec": {
      "name": "python3",
      "display_name": "Python 3"
    },
    "language_info": {
      "name": "python"
    },
    "accelerator": "GPU"
  },
  "cells": [
    {
      "cell_type": "markdown",
      "metadata": {
        "id": "view-in-github",
        "colab_type": "text"
      },
      "source": [
        "<a href=\"https://colab.research.google.com/github/Aditya-567/Oral-Cancer-ML-Model/blob/lextrone/Untitled0.ipynb\" target=\"_parent\"><img src=\"https://colab.research.google.com/assets/colab-badge.svg\" alt=\"Open In Colab\"/></a>"
      ]
    },
    {
      "cell_type": "code",
      "execution_count": 1,
      "metadata": {
        "colab": {
          "base_uri": "https://localhost:8080/"
        },
        "id": "cG6udEvVF_Ii",
        "outputId": "623e922d-2f16-4cc2-c458-a54907107b22"
      },
      "outputs": [
        {
          "output_type": "stream",
          "name": "stdout",
          "text": [
            "Mounted at /content/drive\n"
          ]
        }
      ],
      "source": [
        "from google.colab import drive\n",
        "drive.mount('/content/drive')"
      ]
    },
    {
      "cell_type": "code",
      "source": [
        "!pip install -q keras"
      ],
      "metadata": {
        "id": "8I5h4v_FGaQc"
      },
      "execution_count": 2,
      "outputs": []
    },
    {
      "cell_type": "code",
      "source": [
        "!pip install -q tensorflow"
      ],
      "metadata": {
        "id": "yTaRir3POcZn"
      },
      "execution_count": 3,
      "outputs": []
    },
    {
      "cell_type": "code",
      "source": [
        "import keras"
      ],
      "metadata": {
        "id": "DoaIoippIc1C"
      },
      "execution_count": 4,
      "outputs": []
    },
    {
      "cell_type": "code",
      "source": [
        "import tensorflow"
      ],
      "metadata": {
        "id": "EZtyMV2WOwYv"
      },
      "execution_count": 5,
      "outputs": []
    },
    {
      "cell_type": "code",
      "source": [
        "from keras.layers import Input, Lambda, Dense, Flatten\n",
        "from keras.models import Model\n",
        "#from keras.applications.vgg16 import VGG16\n",
        "from keras.applications.vgg19 import VGG19\n",
        "from keras.applications.vgg16 import preprocess_input\n",
        "from keras.preprocessing import image\n",
        "from keras.preprocessing.image import ImageDataGenerator\n",
        "from keras.models import Sequential\n",
        "import numpy as np\n",
        "from glob import glob\n",
        "import matplotlib.pyplot as plt\n",
        "\n",
        "# re-size all the images to this\n",
        "IMAGE_SIZE = [224, 224]\n",
        "\n",
        "train_path = '/content/drive/MyDrive/train'\n",
        "valid_path = '/content/drive/MyDrive/test'"
      ],
      "metadata": {
        "id": "uALlHyrEI0We"
      },
      "execution_count": 7,
      "outputs": []
    },
    {
      "cell_type": "code",
      "source": [
        "from keras.preprocessing.image import ImageDataGenerator\n",
        "from keras.applications.vgg19 import VGG19\n",
        "from keras.layers import Flatten, Dense\n",
        "from keras.models import Model\n",
        "\n",
        "# Set the image size\n",
        "IMAGE_SIZE = [224, 224]\n",
        "\n",
        "# Use the Image Data Generator to import the images from the dataset\n",
        "train_datagen = ImageDataGenerator(rescale=1./255,\n",
        "                                   shear_range=0.2,\n",
        "                                   zoom_range=0.2,\n",
        "                                   horizontal_flip=True)\n",
        "\n",
        "test_datagen = ImageDataGenerator(rescale=1./255)\n",
        "\n",
        "# Specify the path to your training and testing data\n",
        "train_path = '/content/drive/MyDrive/train'\n",
        "test_path = '/content/drive/MyDrive/test'\n",
        "\n",
        "# Load and augment training data\n",
        "training_set = train_datagen.flow_from_directory(train_path,\n",
        "                                                 target_size=IMAGE_SIZE,\n",
        "                                                 batch_size=32,\n",
        "                                                 class_mode='binary')  # Updated to binary\n",
        "\n",
        "# Load testing data (no augmentation)\n",
        "test_set = test_datagen.flow_from_directory(test_path,\n",
        "                                            target_size=IMAGE_SIZE,\n",
        "                                            batch_size=32,\n",
        "                                            class_mode='binary')  # Updated to binary\n",
        "\n",
        "# Add preprocessing layer to the front of VGG\n",
        "vgg = VGG19(input_shape=IMAGE_SIZE + [3], weights='imagenet', include_top=False)\n",
        "\n",
        "# Freeze existing weights\n",
        "for layer in vgg.layers:\n",
        "    layer.trainable = False\n",
        "\n",
        "# Additional layers for your specific task\n",
        "x = Flatten()(vgg.output)\n",
        "prediction = Dense(1, activation='sigmoid')(x)  # For binary classification\n",
        "\n",
        "# Create a model\n",
        "model = Model(inputs=vgg.input, outputs=prediction)\n",
        "\n",
        "# Display the model summary\n",
        "model.summary()\n",
        "\n",
        "# Compile the model\n",
        "model.compile(loss='binary_crossentropy',\n",
        "              optimizer='adam',\n",
        "              metrics=['accuracy'])\n"
      ],
      "metadata": {
        "colab": {
          "base_uri": "https://localhost:8080/"
        },
        "id": "N33RVcidQKvs",
        "outputId": "d96b28a5-1d61-4e4d-ccfb-653db32a0460"
      },
      "execution_count": 14,
      "outputs": [
        {
          "output_type": "stream",
          "name": "stdout",
          "text": [
            "Found 0 images belonging to 0 classes.\n",
            "Found 0 images belonging to 0 classes.\n",
            "Model: \"model_2\"\n",
            "_________________________________________________________________\n",
            " Layer (type)                Output Shape              Param #   \n",
            "=================================================================\n",
            " input_3 (InputLayer)        [(None, 224, 224, 3)]     0         \n",
            "                                                                 \n",
            " block1_conv1 (Conv2D)       (None, 224, 224, 64)      1792      \n",
            "                                                                 \n",
            " block1_conv2 (Conv2D)       (None, 224, 224, 64)      36928     \n",
            "                                                                 \n",
            " block1_pool (MaxPooling2D)  (None, 112, 112, 64)      0         \n",
            "                                                                 \n",
            " block2_conv1 (Conv2D)       (None, 112, 112, 128)     73856     \n",
            "                                                                 \n",
            " block2_conv2 (Conv2D)       (None, 112, 112, 128)     147584    \n",
            "                                                                 \n",
            " block2_pool (MaxPooling2D)  (None, 56, 56, 128)       0         \n",
            "                                                                 \n",
            " block3_conv1 (Conv2D)       (None, 56, 56, 256)       295168    \n",
            "                                                                 \n",
            " block3_conv2 (Conv2D)       (None, 56, 56, 256)       590080    \n",
            "                                                                 \n",
            " block3_conv3 (Conv2D)       (None, 56, 56, 256)       590080    \n",
            "                                                                 \n",
            " block3_conv4 (Conv2D)       (None, 56, 56, 256)       590080    \n",
            "                                                                 \n",
            " block3_pool (MaxPooling2D)  (None, 28, 28, 256)       0         \n",
            "                                                                 \n",
            " block4_conv1 (Conv2D)       (None, 28, 28, 512)       1180160   \n",
            "                                                                 \n",
            " block4_conv2 (Conv2D)       (None, 28, 28, 512)       2359808   \n",
            "                                                                 \n",
            " block4_conv3 (Conv2D)       (None, 28, 28, 512)       2359808   \n",
            "                                                                 \n",
            " block4_conv4 (Conv2D)       (None, 28, 28, 512)       2359808   \n",
            "                                                                 \n",
            " block4_pool (MaxPooling2D)  (None, 14, 14, 512)       0         \n",
            "                                                                 \n",
            " block5_conv1 (Conv2D)       (None, 14, 14, 512)       2359808   \n",
            "                                                                 \n",
            " block5_conv2 (Conv2D)       (None, 14, 14, 512)       2359808   \n",
            "                                                                 \n",
            " block5_conv3 (Conv2D)       (None, 14, 14, 512)       2359808   \n",
            "                                                                 \n",
            " block5_conv4 (Conv2D)       (None, 14, 14, 512)       2359808   \n",
            "                                                                 \n",
            " block5_pool (MaxPooling2D)  (None, 7, 7, 512)         0         \n",
            "                                                                 \n",
            " flatten_2 (Flatten)         (None, 25088)             0         \n",
            "                                                                 \n",
            " dense_2 (Dense)             (None, 1)                 25089     \n",
            "                                                                 \n",
            "=================================================================\n",
            "Total params: 20049473 (76.48 MB)\n",
            "Trainable params: 25089 (98.00 KB)\n",
            "Non-trainable params: 20024384 (76.39 MB)\n",
            "_________________________________________________________________\n"
          ]
        }
      ]
    },
    {
      "cell_type": "code",
      "source": [
        "from keras.preprocessing.image import ImageDataGenerator\n",
        "\n",
        "train_datagen = ImageDataGenerator(rescale=1./255,\n",
        "                                   shear_range=0.2,\n",
        "                                   zoom_range=0.2,\n",
        "                                   horizontal_flip=True)\n",
        "\n",
        "test_datagen = ImageDataGenerator(rescale=1./255)\n",
        "\n",
        "training_set = train_datagen.flow_from_directory('/content/drive/MyDrive/train',\n",
        "                                                 target_size=(224, 224),\n",
        "                                                 batch_size=32,\n",
        "                                                 class_mode='binary')  # Use 'binary' for binary classification\n",
        "\n",
        "test_set = test_datagen.flow_from_directory('/content/drive/MyDrive/test',\n",
        "                                            target_size=(224, 224),\n",
        "                                            batch_size=32,\n",
        "                                            class_mode='binary')  # Use 'binary' for binary classification\n"
      ],
      "metadata": {
        "colab": {
          "base_uri": "https://localhost:8080/"
        },
        "id": "BlnbzIplQQkD",
        "outputId": "a71b5eca-9ca7-4192-ab80-a438b80aa5c2"
      },
      "execution_count": 17,
      "outputs": [
        {
          "output_type": "stream",
          "name": "stdout",
          "text": [
            "Found 0 images belonging to 0 classes.\n",
            "Found 0 images belonging to 0 classes.\n"
          ]
        }
      ]
    },
    {
      "cell_type": "code",
      "source": [
        "import os\n",
        "\n",
        "print(os.listdir('/content/drive/MyDrive/train'))\n",
        "print(os.listdir('/content/drive/MyDrive/test'))\n"
      ],
      "metadata": {
        "colab": {
          "base_uri": "https://localhost:8080/"
        },
        "id": "IbgmIGitRmx6",
        "outputId": "196a0c7c-c97a-4451-8e27-b6b45915e923"
      },
      "execution_count": 18,
      "outputs": [
        {
          "output_type": "stream",
          "name": "stdout",
          "text": [
            "['0000.png', '0004.png', '0006.png', '0001.png', '0005.png', '0003.png', '0002.png', '0009.png', '0011.png', '0010.png', '0017.png', '0014.png', '0007.png', '0015.png', '0016.png', '0012.png', '0018.png', '0013.png', '0008.png', '0025.png', '0023.png', '0029.png', '0026.png', '0022.png', '0027.png', '0019.png', '0030.png', '0020.png', '0024.png', '0021.png', '0028.png', '0034.png', '0031.png', '0036.png', '0037.png', '0032.png', '0033.png', '0038.png', '0040.png', '0035.png', '0042.png', '0041.png', '0039.png', '0054.png', '0055.png', '0050.png', '0045.png', '0052.png', '0046.png', '0051.png', '0053.png', '0049.png', '0043.png', '0047.png', '0048.png', '0044.png', '0061.png', '0068.png', '0066.png', '0060.png', '0056.png', '0067.png', '0062.png', '0064.png', '0058.png', '0059.png', '0063.png', '0065.png', '0057.png', '0069.png', '0076.png', '0073.png', '0071.png', '0079.png', '0075.png', '0070.png', '0078.png', '0080.png', '0074.png', '0082.png', '0081.png', '0072.png', '0077.png', '0095.png', '0092.png', '0084.png', '0094.png', '0093.png', '0086.png', '0085.png', '0083.png', '0091.png', '0088.png', '0089.png', '0090.png', '0087.png', '0099.png', '0104.png', '0108.png', '0096.png', '0100.png', '0098.png', '0105.png', '0097.png', '0102.png', '0103.png', '0101.png', '0107.png', '0106.png', '0121.png', '0117.png', '0109.png', '0111.png', '0115.png', '0110.png', '0114.png', '0118.png', '0112.png', '0119.png', '0113.png', '0116.png', '0120.png', '0127.png', '0133.png', '0130.png', '0123.png', '0126.png', '0125.png', '0122.png', '0131.png', '0132.png', '0124.png', '0129.png', '0128.png', '0138.png', '0140.png', '0137.png', '0139.png', '0136.png', '0135.png', '0141.png', '0134.png']\n",
            "['0148.png', '0144.png', '0146.png', '0145.png', '0147.png', '0143.png', '0142.png', '0151.png', '0157.png', '0159.png', '0155.png', '0149.png', '0150.png', '0158.png', '0152.png', '0156.png', '0153.png', '0154.png', '0171.png', '0160.png', '0169.png', '0172.png', '0162.png', '0166.png', '0165.png', '0170.png', '0167.png', '0164.png', '0161.png', '0163.png', '0168.png', '0174.png', '0184.png', '0173.png', '0177.png', '0180.png', '0182.png', '0183.png', '0179.png', '0178.png', '0175.png', '0176.png', '0181.png', '0188.png', '0187.png', '0185.png', '0186.png']\n"
          ]
        }
      ]
    }
  ]
}