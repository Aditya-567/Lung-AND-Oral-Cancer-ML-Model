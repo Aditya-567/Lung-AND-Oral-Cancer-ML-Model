{
 "cells": [
  {
   "cell_type": "code",
   "execution_count": 1,
   "id": "03a843ab",
   "metadata": {
    "_cell_guid": "b1076dfc-b9ad-4769-8c92-a6c4dae69d19",
    "_uuid": "8f2839f25d086af736a60e9eeb907d3b93b6e0e5",
    "execution": {
     "iopub.execute_input": "2024-03-13T16:53:09.228111Z",
     "iopub.status.busy": "2024-03-13T16:53:09.227626Z",
     "iopub.status.idle": "2024-03-13T16:53:10.338373Z",
     "shell.execute_reply": "2024-03-13T16:53:10.336324Z"
    },
    "papermill": {
     "duration": 1.124017,
     "end_time": "2024-03-13T16:53:10.341435",
     "exception": false,
     "start_time": "2024-03-13T16:53:09.217418",
     "status": "completed"
    },
    "tags": []
   },
   "outputs": [
    {
     "name": "stdout",
     "output_type": "stream",
     "text": [
      "/kaggle/input/oral-cancer-lips-and-tongue-images/OralCancer/cancer/images (4).jpeg\n",
      "/kaggle/input/oral-cancer-lips-and-tongue-images/OralCancer/cancer/ircmj-17-3-13478-g001-preview.png\n",
      "/kaggle/input/oral-cancer-lips-and-tongue-images/OralCancer/cancer/lip-cancer-and-symptoms.jpg\n",
      "/kaggle/input/oral-cancer-lips-and-tongue-images/OralCancer/cancer/dataset_41457tn.jpg\n",
      "/kaggle/input/oral-cancer-lips-and-tongue-images/OralCancer/cancer/949b9f09-aa54-454e-b631-b6d98e079f45.jpg\n",
      "/kaggle/input/oral-cancer-lips-and-tongue-images/OralCancer/cancer/pract_oral_cancer.jpg\n",
      "/kaggle/input/oral-cancer-lips-and-tongue-images/OralCancer/cancer/figure1.jpg\n",
      "/kaggle/input/oral-cancer-lips-and-tongue-images/OralCancer/cancer/dataset_Carcinomaoftherighttongue_OCT-20161108085557163.jpg\n",
      "/kaggle/input/oral-cancer-lips-and-tongue-images/OralCancer/cancer/d09a9b5c-a0b1-488f-9d50-2937fe578a7e.jpg\n",
      "/kaggle/input/oral-cancer-lips-and-tongue-images/OralCancer/cancer/mouth-cancer-symptoms-1.jpg\n",
      "/kaggle/input/oral-cancer-lips-and-tongue-images/OralCancer/cancer/download (4).jpeg\n",
      "/kaggle/input/oral-cancer-lips-and-tongue-images/OralCancer/cancer/images.jpeg\n",
      "/kaggle/input/oral-cancer-lips-and-tongue-images/OralCancer/cancer/oral-leukoplakia-br-image-credit-dermnet-new-zealand-br.jpg\n",
      "/kaggle/input/oral-cancer-lips-and-tongue-images/OralCancer/cancer/dataset_mouth-cancer-symptoms-1.jpg\n",
      "/kaggle/input/oral-cancer-lips-and-tongue-images/OralCancer/cancer/3-s2.0-B9780443100734500148-f10-07-9780443100734.jpg\n",
      "/kaggle/input/oral-cancer-lips-and-tongue-images/OralCancer/cancer/Carcinomaoftherighttongue_OCT-20161108085557163.jpg\n",
      "/kaggle/input/oral-cancer-lips-and-tongue-images/OralCancer/cancer/cancer 6.jpg\n",
      "/kaggle/input/oral-cancer-lips-and-tongue-images/OralCancer/cancer/Tongue-cancer-symptoms.png\n",
      "/kaggle/input/oral-cancer-lips-and-tongue-images/OralCancer/cancer/lip-reconstruction-gallery-skin-cancer-and-reconstructive-surgery-pertaining-to-lip-cancer-surgery.jpg\n",
      "/kaggle/input/oral-cancer-lips-and-tongue-images/OralCancer/cancer/oral-cancer__ProtectWyJQcm90ZWN0Il0_FocusFillWzI5NCwyMjIsIngiLDIwXQ.jpg\n",
      "/kaggle/input/oral-cancer-lips-and-tongue-images/OralCancer/cancer/18b79305-949e-4ed8-849c-ec5d5a794752.jpg\n",
      "/kaggle/input/oral-cancer-lips-and-tongue-images/OralCancer/cancer/IMG_3506-e1564923599677.jpg\n",
      "/kaggle/input/oral-cancer-lips-and-tongue-images/OralCancer/cancer/Lower_lip_cancer.jpg\n",
      "/kaggle/input/oral-cancer-lips-and-tongue-images/OralCancer/cancer/ds01089_im00213_c7_lipcancerpicturethu_jpg.jpg\n",
      "/kaggle/input/oral-cancer-lips-and-tongue-images/OralCancer/cancer/dataset_2-1080x675.jpg\n",
      "/kaggle/input/oral-cancer-lips-and-tongue-images/OralCancer/cancer/dataset_mouth-photo-3.png\n",
      "/kaggle/input/oral-cancer-lips-and-tongue-images/OralCancer/cancer/f063-001a-9781416025276.jpg\n",
      "/kaggle/input/oral-cancer-lips-and-tongue-images/OralCancer/cancer/dataset_3-s2.0-B9780443100734500148-f10-07-9780443100734.jpg\n",
      "/kaggle/input/oral-cancer-lips-and-tongue-images/OralCancer/cancer/download.jpeg\n",
      "/kaggle/input/oral-cancer-lips-and-tongue-images/OralCancer/cancer/41457tn.jpg\n",
      "/kaggle/input/oral-cancer-lips-and-tongue-images/OralCancer/cancer/dataset_1366.fig.1.png\n",
      "/kaggle/input/oral-cancer-lips-and-tongue-images/OralCancer/cancer/C0235749-Mouth_cancer-SPL-20170511085515620.jpg\n",
      "/kaggle/input/oral-cancer-lips-and-tongue-images/OralCancer/cancer/mouth-cancer.jpg\n",
      "/kaggle/input/oral-cancer-lips-and-tongue-images/OralCancer/cancer/dataset_1200px-ZungenCa2a (1).jpg\n",
      "/kaggle/input/oral-cancer-lips-and-tongue-images/OralCancer/cancer/images (1).jpeg\n",
      "/kaggle/input/oral-cancer-lips-and-tongue-images/OralCancer/cancer/skin-cancer-on-lips-treatment.jpg\n",
      "/kaggle/input/oral-cancer-lips-and-tongue-images/OralCancer/cancer/dataset_41415_2000_Article_BF4800481_Fig1_HTML.jpg\n",
      "/kaggle/input/oral-cancer-lips-and-tongue-images/OralCancer/cancer/mouth-photo-3.png\n",
      "/kaggle/input/oral-cancer-lips-and-tongue-images/OralCancer/cancer/dataset_base-of-tongue-cancer-symptoms.jpg\n",
      "/kaggle/input/oral-cancer-lips-and-tongue-images/OralCancer/cancer/dataset_oral-cancer-treatment-500x500.png\n",
      "/kaggle/input/oral-cancer-lips-and-tongue-images/OralCancer/cancer/46e21e7be60567c4b9b2ca9018587f88_XL.jpg\n",
      "/kaggle/input/oral-cancer-lips-and-tongue-images/OralCancer/cancer/dataset_1200px-ZungenCa2a.jpg\n",
      "/kaggle/input/oral-cancer-lips-and-tongue-images/OralCancer/cancer/dataset_left_lateral_tongue_dysplasia_3.jpeg\n",
      "/kaggle/input/oral-cancer-lips-and-tongue-images/OralCancer/cancer/dataset_oral-leukoplakia-br-image-credit-dermnet-new-zealand-br.jpg\n",
      "/kaggle/input/oral-cancer-lips-and-tongue-images/OralCancer/cancer/oral-cancer-by-j-shah-33-728.jpg\n",
      "/kaggle/input/oral-cancer-lips-and-tongue-images/OralCancer/cancer/dataset_oral-cancer-by-j-shah-33-728.jpg\n",
      "/kaggle/input/oral-cancer-lips-and-tongue-images/OralCancer/cancer/lip_images_oct_2006.jpg\n",
      "/kaggle/input/oral-cancer-lips-and-tongue-images/OralCancer/cancer/mouth-photo-4.png\n",
      "/kaggle/input/oral-cancer-lips-and-tongue-images/OralCancer/cancer/dataset_oral-cancer__ProtectWyJQcm90ZWN0Il0_FocusFillWzI5NCwyMjIsIngiLDIwXQ.jpg\n",
      "/kaggle/input/oral-cancer-lips-and-tongue-images/OralCancer/cancer/a-Frontal-view-of-patient-with-lower-lip-squamous-cell-carcinoma-b-Postoperative.png\n",
      "/kaggle/input/oral-cancer-lips-and-tongue-images/OralCancer/cancer/oralcancer1.png\n",
      "/kaggle/input/oral-cancer-lips-and-tongue-images/OralCancer/cancer/b2585c8d-65a0-4476-a4e6-a9f2d424cd60.jpg\n",
      "/kaggle/input/oral-cancer-lips-and-tongue-images/OralCancer/cancer/41415_2000_Article_BF4800481_Fig1_HTML.jpg\n",
      "/kaggle/input/oral-cancer-lips-and-tongue-images/OralCancer/cancer/dataset_Oral-cancer-Courtesy-of-Professor-Jan-Zapa1a-Chair-of-Cranio-Maxillofacial.png\n",
      "/kaggle/input/oral-cancer-lips-and-tongue-images/OralCancer/cancer/is-lip-cancer-painful.jpg\n",
      "/kaggle/input/oral-cancer-lips-and-tongue-images/OralCancer/cancer/dataset_cancer 6.jpg\n",
      "/kaggle/input/oral-cancer-lips-and-tongue-images/OralCancer/cancer/dataset_Tongue-cancer-symptoms.png\n",
      "/kaggle/input/oral-cancer-lips-and-tongue-images/OralCancer/cancer/skin-cancer-of-the-lip.jpg\n",
      "/kaggle/input/oral-cancer-lips-and-tongue-images/OralCancer/cancer/oral-cancer-treatment-500x500.png\n",
      "/kaggle/input/oral-cancer-lips-and-tongue-images/OralCancer/cancer/images (2).jpeg\n",
      "/kaggle/input/oral-cancer-lips-and-tongue-images/OralCancer/cancer/images (5).jpeg\n",
      "/kaggle/input/oral-cancer-lips-and-tongue-images/OralCancer/cancer/base-of-tongue-cancer-symptoms.jpg\n",
      "/kaggle/input/oral-cancer-lips-and-tongue-images/OralCancer/cancer/Screenshot 2020-03-16 at 10.47.50 AM.png\n",
      "/kaggle/input/oral-cancer-lips-and-tongue-images/OralCancer/cancer/Oral-cancer-Courtesy-of-Professor-Jan-Zapa1a-Chair-of-Cranio-Maxillofacial.png\n",
      "/kaggle/input/oral-cancer-lips-and-tongue-images/OralCancer/cancer/dataset_650x350_oral_cancer_ref_guide.jpg\n",
      "/kaggle/input/oral-cancer-lips-and-tongue-images/OralCancer/cancer/1200px-ZungenCa2a.jpg\n",
      "/kaggle/input/oral-cancer-lips-and-tongue-images/OralCancer/cancer/images (3).jpeg\n",
      "/kaggle/input/oral-cancer-lips-and-tongue-images/OralCancer/cancer/dataset_oral-cancer-screening.jpg\n",
      "/kaggle/input/oral-cancer-lips-and-tongue-images/OralCancer/cancer/oral-cancer-screening.jpg\n",
      "/kaggle/input/oral-cancer-lips-and-tongue-images/OralCancer/cancer/squamous-cell-carinoma-of-the-tongue.jpg\n",
      "/kaggle/input/oral-cancer-lips-and-tongue-images/OralCancer/cancer/SRMJResDentSci_2013_4_1_35_116830_u1.jpg\n",
      "/kaggle/input/oral-cancer-lips-and-tongue-images/OralCancer/cancer/dataset_figure1.jpg\n",
      "/kaggle/input/oral-cancer-lips-and-tongue-images/OralCancer/cancer/lip-cancer-br-image-credit-national-cancer-institute-2003-br.jpg\n",
      "/kaggle/input/oral-cancer-lips-and-tongue-images/OralCancer/cancer/dataset_squamous-cell-carinoma-of-the-tongue.jpg\n",
      "/kaggle/input/oral-cancer-lips-and-tongue-images/OralCancer/cancer/324950_1100.jpg\n",
      "/kaggle/input/oral-cancer-lips-and-tongue-images/OralCancer/cancer/dataset_pract_oral_cancer.jpg\n",
      "/kaggle/input/oral-cancer-lips-and-tongue-images/OralCancer/cancer/lipreconstruction1.jpg\n",
      "/kaggle/input/oral-cancer-lips-and-tongue-images/OralCancer/cancer/01960a64-cfe8-444d-bbc5-575c15389a21.jpg\n",
      "/kaggle/input/oral-cancer-lips-and-tongue-images/OralCancer/cancer/dataset_280x190_tongue_cancer_facts_ref_guide.jpg\n",
      "/kaggle/input/oral-cancer-lips-and-tongue-images/OralCancer/cancer/f45634f6-0b4a-4d7d-ac44-5ea1658f728e.jpg\n",
      "/kaggle/input/oral-cancer-lips-and-tongue-images/OralCancer/cancer/download (2).jpeg\n",
      "/kaggle/input/oral-cancer-lips-and-tongue-images/OralCancer/cancer/first-sign-lip-cancer_c3094f88d448d26b.jpg\n",
      "/kaggle/input/oral-cancer-lips-and-tongue-images/OralCancer/cancer/a342a6a0-d3f6-4459-b99a-6a4d4313aa9f.jpg\n",
      "/kaggle/input/oral-cancer-lips-and-tongue-images/OralCancer/cancer/dataset_mouth-photo-4.png\n",
      "/kaggle/input/oral-cancer-lips-and-tongue-images/OralCancer/cancer/dataset_SRMJResDentSci_2013_4_1_35_116830_u1.jpg\n",
      "/kaggle/input/oral-cancer-lips-and-tongue-images/OralCancer/cancer/Oral-Cancer-Screenings.jpg\n",
      "/kaggle/input/oral-cancer-lips-and-tongue-images/OralCancer/cancer/lip-cancer-pictures-youtube-regarding-lip-cancer-pictures.jpg\n",
      "/kaggle/input/oral-cancer-lips-and-tongue-images/OralCancer/non-cancer/close-up-of-spots-on-tongue.jpg\n",
      "/kaggle/input/oral-cancer-lips-and-tongue-images/OralCancer/non-cancer/35556-m.jpg\n",
      "/kaggle/input/oral-cancer-lips-and-tongue-images/OralCancer/non-cancer/download (3).jpeg\n",
      "/kaggle/input/oral-cancer-lips-and-tongue-images/OralCancer/non-cancer/dataset__654-What_Does_Mouth_Cancer_Look-642x361-Side-2.jpg\n",
      "/kaggle/input/oral-cancer-lips-and-tongue-images/OralCancer/non-cancer/images.jpeg\n",
      "/kaggle/input/oral-cancer-lips-and-tongue-images/OralCancer/non-cancer/20191129_1827192.jpg\n",
      "/kaggle/input/oral-cancer-lips-and-tongue-images/OralCancer/non-cancer/20200302_1725362.jpg\n",
      "/kaggle/input/oral-cancer-lips-and-tongue-images/OralCancer/non-cancer/20190916_1420142.jpg\n",
      "/kaggle/input/oral-cancer-lips-and-tongue-images/OralCancer/non-cancer/DSC_01992.jpg\n",
      "/kaggle/input/oral-cancer-lips-and-tongue-images/OralCancer/non-cancer/20200314_1123332.jpg\n",
      "/kaggle/input/oral-cancer-lips-and-tongue-images/OralCancer/non-cancer/IMG_20170301_1115506262.jpg\n",
      "/kaggle/input/oral-cancer-lips-and-tongue-images/OralCancer/non-cancer/tongue.jpg\n",
      "/kaggle/input/oral-cancer-lips-and-tongue-images/OralCancer/non-cancer/20200314_1124072.jpg\n",
      "/kaggle/input/oral-cancer-lips-and-tongue-images/OralCancer/non-cancer/20200314_1129242.jpg\n",
      "/kaggle/input/oral-cancer-lips-and-tongue-images/OralCancer/non-cancer/20200314_1130304.jpg\n",
      "/kaggle/input/oral-cancer-lips-and-tongue-images/OralCancer/non-cancer/tongue (1).jpg\n",
      "/kaggle/input/oral-cancer-lips-and-tongue-images/OralCancer/non-cancer/download (1).jpeg\n",
      "/kaggle/input/oral-cancer-lips-and-tongue-images/OralCancer/non-cancer/WP_20141029_18_42_38_Pro2.jpg\n",
      "/kaggle/input/oral-cancer-lips-and-tongue-images/OralCancer/non-cancer/_tongue.jpg\n",
      "/kaggle/input/oral-cancer-lips-and-tongue-images/OralCancer/non-cancer/69293_mouth-exam-child-iStock-510174422.jpg_ccba64ac-3050-4b37-9641-ca94b3db2c11.jpeg\n",
      "/kaggle/input/oral-cancer-lips-and-tongue-images/OralCancer/non-cancer/biopsy-oral-cancer.jpg\n",
      "/kaggle/input/oral-cancer-lips-and-tongue-images/OralCancer/non-cancer/12654650-6954555-image-a-22_1556101508834-Edited.jpg\n",
      "/kaggle/input/oral-cancer-lips-and-tongue-images/OralCancer/non-cancer/Screenshot 2020-03-15 at 9.58.58 PM.png\n",
      "/kaggle/input/oral-cancer-lips-and-tongue-images/OralCancer/non-cancer/20200314_1130303.jpg\n",
      "/kaggle/input/oral-cancer-lips-and-tongue-images/OralCancer/non-cancer/20200314_1117432.jpg\n",
      "/kaggle/input/oral-cancer-lips-and-tongue-images/OralCancer/non-cancer/20200314_1129245.jpg\n",
      "/kaggle/input/oral-cancer-lips-and-tongue-images/OralCancer/non-cancer/WP_20141221_0012.jpg\n",
      "/kaggle/input/oral-cancer-lips-and-tongue-images/OralCancer/non-cancer/20191129_1825022.jpg\n",
      "/kaggle/input/oral-cancer-lips-and-tongue-images/OralCancer/non-cancer/20200314_1117132.jpg\n",
      "/kaggle/input/oral-cancer-lips-and-tongue-images/OralCancer/non-cancer/20191129_1750382.jpg\n",
      "/kaggle/input/oral-cancer-lips-and-tongue-images/OralCancer/non-cancer/20200314_1125032.jpg\n",
      "/kaggle/input/oral-cancer-lips-and-tongue-images/OralCancer/non-cancer/dataset_jlspo68f92i21.jpg\n",
      "/kaggle/input/oral-cancer-lips-and-tongue-images/OralCancer/non-cancer/Normal-tongue-out--1296x728-gallery_slide1.jpg\n",
      "/kaggle/input/oral-cancer-lips-and-tongue-images/OralCancer/non-cancer/20200314_1130302.jpg\n",
      "/kaggle/input/oral-cancer-lips-and-tongue-images/OralCancer/non-cancer/20200314_1129243.jpg\n",
      "/kaggle/input/oral-cancer-lips-and-tongue-images/OralCancer/non-cancer/DSC_02062.jpg\n",
      "/kaggle/input/oral-cancer-lips-and-tongue-images/OralCancer/non-cancer/20200303_1146172.jpg\n",
      "/kaggle/input/oral-cancer-lips-and-tongue-images/OralCancer/non-cancer/tongue-1.jpg\n",
      "/kaggle/input/oral-cancer-lips-and-tongue-images/OralCancer/non-cancer/tongue-tingling-in-person-with-their-tongue-sticking-out.jpg\n",
      "/kaggle/input/oral-cancer-lips-and-tongue-images/OralCancer/non-cancer/DSC_3536_2.jpg\n",
      "/kaggle/input/oral-cancer-lips-and-tongue-images/OralCancer/non-cancer/388x210-White_Bumps_on_Lips.jpg\n",
      "/kaggle/input/oral-cancer-lips-and-tongue-images/OralCancer/non-cancer/1366.fig.1.png\n",
      "/kaggle/input/oral-cancer-lips-and-tongue-images/OralCancer/non-cancer/IMG_57592.jpg\n",
      "/kaggle/input/oral-cancer-lips-and-tongue-images/OralCancer/non-cancer/DSC_02063.jpg\n"
     ]
    }
   ],
   "source": [
    "# This Python 3 environment comes with many helpful analytics libraries installed\n",
    "# It is defined by the kaggle/python Docker image: https://github.com/kaggle/docker-python\n",
    "# For example, here's several helpful packages to load\n",
    "\n",
    "import numpy as np # linear algebra\n",
    "import pandas as pd # data processing, CSV file I/O (e.g. pd.read_csv)\n",
    "\n",
    "# Input data files are available in the read-only \"../input/\" directory\n",
    "# For example, running this (by clicking run or pressing Shift+Enter) will list all files under the input directory\n",
    "\n",
    "import os\n",
    "for dirname, _, filenames in os.walk('/kaggle/input'):\n",
    "    for filename in filenames:\n",
    "        print(os.path.join(dirname, filename))\n",
    "\n",
    "# You can write up to 20GB to the current directory (/kaggle/working/) that gets preserved as output when you create a version using \"Save & Run All\" \n",
    "# You can also write temporary files to /kaggle/temp/, but they won't be saved outside of the current session"
   ]
  },
  {
   "cell_type": "code",
   "execution_count": 2,
   "id": "77445f66",
   "metadata": {
    "execution": {
     "iopub.execute_input": "2024-03-13T16:53:10.359845Z",
     "iopub.status.busy": "2024-03-13T16:53:10.359169Z",
     "iopub.status.idle": "2024-03-13T16:53:12.141250Z",
     "shell.execute_reply": "2024-03-13T16:53:12.139878Z"
    },
    "papermill": {
     "duration": 1.794802,
     "end_time": "2024-03-13T16:53:12.144451",
     "exception": false,
     "start_time": "2024-03-13T16:53:10.349649",
     "status": "completed"
    },
    "tags": []
   },
   "outputs": [],
   "source": [
    "# Importing Necessary Libraries\n",
    "import cv2\n",
    "import os\n",
    "import shutil \n",
    "import math\n",
    "import random\n",
    "import numpy as np\n",
    "import pandas as pd \n",
    "import matplotlib.pyplot as plt\n",
    "from sklearn.metrics import mean_squared_error\n",
    "\n",
    "import warnings\n",
    "warnings.filterwarnings(\"ignore\")"
   ]
  },
  {
   "cell_type": "code",
   "execution_count": 3,
   "id": "44848c19",
   "metadata": {
    "execution": {
     "iopub.execute_input": "2024-03-13T16:53:12.162537Z",
     "iopub.status.busy": "2024-03-13T16:53:12.161518Z",
     "iopub.status.idle": "2024-03-13T16:53:24.098599Z",
     "shell.execute_reply": "2024-03-13T16:53:24.097247Z"
    },
    "papermill": {
     "duration": 11.94978,
     "end_time": "2024-03-13T16:53:24.102093",
     "exception": false,
     "start_time": "2024-03-13T16:53:12.152313",
     "status": "completed"
    },
    "tags": []
   },
   "outputs": [
    {
     "name": "stderr",
     "output_type": "stream",
     "text": [
      "libpng warning: iCCP: extra compressed data\n",
      "libpng warning: iCCP: extra compressed data\n",
      "[ WARN:0@8.854] global loadsave.cpp:248 findDecoder imread_('./OralCancer/cancer/img_cancer_26.jpg'): can't open/read file: check file path/integrity\n",
      "[ WARN:0@9.089] global loadsave.cpp:248 findDecoder imread_('./OralCancer/cancer/img_cancer_50.jpg'): can't open/read file: check file path/integrity\n",
      "[ WARN:0@9.411] global loadsave.cpp:248 findDecoder imread_('./OralCancer/cancer/img_cancer_58.jpg'): can't open/read file: check file path/integrity\n",
      "[ WARN:0@9.642] global loadsave.cpp:248 findDecoder imread_('./OralCancer/cancer/img_cancer_82.jpg'): can't open/read file: check file path/integrity\n",
      "[ WARN:0@9.869] global loadsave.cpp:248 findDecoder imread_('./OralCancer/cancer/img_cancer_18.jpg'): can't open/read file: check file path/integrity\n",
      "[ WARN:0@10.420] global loadsave.cpp:248 findDecoder imread_('./OralCancer/cancer/img_cancer_35.jpg'): can't open/read file: check file path/integrity\n",
      "[ WARN:0@10.882] global loadsave.cpp:248 findDecoder imread_('./OralCancer/cancer/img_cancer_29.jpg'): can't open/read file: check file path/integrity\n",
      "[ WARN:0@11.319] global loadsave.cpp:248 findDecoder imread_('./OralCancer/cancer/img_cancer_68.jpg'): can't open/read file: check file path/integrity\n",
      "[ WARN:0@11.525] global loadsave.cpp:248 findDecoder imread_('./OralCancer/cancer/img_cancer_60.jpg'): can't open/read file: check file path/integrity\n",
      "[ WARN:0@11.730] global loadsave.cpp:248 findDecoder imread_('./OralCancer/cancer/img_cancer_79.jpg'): can't open/read file: check file path/integrity\n",
      "[ WARN:0@11.782] global loadsave.cpp:248 findDecoder imread_('./OralCancer/cancer/img_cancer_2.jpg'): can't open/read file: check file path/integrity\n",
      "[ WARN:0@12.059] global loadsave.cpp:248 findDecoder imread_('./OralCancer/cancer/img_cancer_4.jpg'): can't open/read file: check file path/integrity\n",
      "[ WARN:0@12.332] global loadsave.cpp:248 findDecoder imread_('./OralCancer/cancer/img_cancer_72.jpg'): can't open/read file: check file path/integrity\n",
      "[ WARN:0@12.383] global loadsave.cpp:248 findDecoder imread_('./OralCancer/cancer/img_cancer_13.jpg'): can't open/read file: check file path/integrity\n",
      "[ WARN:0@12.507] global loadsave.cpp:248 findDecoder imread_('./OralCancer/cancer/img_cancer_84.jpg'): can't open/read file: check file path/integrity\n",
      "[ WARN:0@12.558] global loadsave.cpp:248 findDecoder imread_('./OralCancer/cancer/img_cancer_65.jpg'): can't open/read file: check file path/integrity\n",
      "[ WARN:0@12.610] global loadsave.cpp:248 findDecoder imread_('./OralCancer/cancer/img_cancer_75.jpg'): can't open/read file: check file path/integrity\n",
      "[ WARN:0@12.810] global loadsave.cpp:248 findDecoder imread_('./OralCancer/cancer/img_cancer_10.jpg'): can't open/read file: check file path/integrity\n",
      "[ WARN:0@12.934] global loadsave.cpp:248 findDecoder imread_('./OralCancer/cancer/img_cancer_51.jpg'): can't open/read file: check file path/integrity\n",
      "[ WARN:0@13.129] global loadsave.cpp:248 findDecoder imread_('./OralCancer/cancer/img_cancer_11.jpg'): can't open/read file: check file path/integrity\n",
      "[ WARN:0@13.248] global loadsave.cpp:248 findDecoder imread_('./OralCancer/cancer/img_cancer_66.jpg'): can't open/read file: check file path/integrity\n",
      "[ WARN:0@13.506] global loadsave.cpp:248 findDecoder imread_('./OralCancer/cancer/img_cancer_46.jpg'): can't open/read file: check file path/integrity\n",
      "[ WARN:0@13.554] global loadsave.cpp:248 findDecoder imread_('./OralCancer/cancer/img_cancer_87.jpg'): can't open/read file: check file path/integrity\n"
     ]
    }
   ],
   "source": [
    "# Function to remove Duplicate Images in the Dataset\n",
    "def findDelDuplImg(file_name , file_dir):\n",
    "    searchedImgPath = os.path.join(file_dir, file_name);\n",
    "    searchedImage = np.array(cv2.imread(searchedImgPath, 0));\n",
    "    # Start iterate over all images\n",
    "    for cmpImageName in os.listdir(file_dir):\n",
    "        if cmpImageName != file_name:\n",
    "            # If name is different\n",
    "            try:\n",
    "                # Concatenate path to image\n",
    "                cmpImagePath = os.path.join(file_dir, cmpImageName);\n",
    "                # Open image to be compared\n",
    "                cmpImage = np.array(cv2.imread(cmpImagePath, 0))\n",
    "                # Count root mean square between both images (RMS)\n",
    "                rms = math.sqrt(mean_squared_error(searchedImage, cmpImage))\n",
    "            except:\n",
    "                continue\n",
    "            # If RMS is smaller than 3 - this means that images are similar or the same\n",
    "            if rms < 3:\n",
    "                # Delete Same Image in Dir\n",
    "                os.remove(cmpImagePath);\n",
    "                \n",
    "# Function for Image preprocessing\n",
    "def processDataset(dataset_src, dataset_dest):\n",
    "    # Making a Copy of Dataset\n",
    "    shutil.copytree(src, dest)\n",
    "    for folder in os.listdir(dest):\n",
    "        for (index, file) in enumerate(os.listdir(os.path.join(dest, folder)), start = 1):\n",
    "            filename = f'img_{folder}_{index}.jpg';\n",
    "            img_src = os.path.join(dest, folder, file);\n",
    "            img_des = os.path.join(dest, folder, filename);\n",
    "            # Preprocess the Images\n",
    "            img = cv2.imread(img_src);\n",
    "            img = cv2.resize(img, (256, 256));\n",
    "            img = cv2.copyMakeBorder(img, 2, 2, 2, 2, cv2.BORDER_CONSTANT, value=0);\n",
    "            img = cv2.blur(img, (2, 2));\n",
    "            cv2.imwrite(img_des ,img);\n",
    "            os.remove(img_src);\n",
    "        for file in os.listdir(os.path.join(dest, folder)):\n",
    "                # Find duplicated images and delete duplicates.\n",
    "                findDelDuplImg(file, os.path.join(dest, folder));\n",
    "\n",
    "# Source Location for Dataset\n",
    "src = '../input/oral-cancer-lips-and-tongue-images/OralCancer';\n",
    "# Destination Location for Dataset\n",
    "dest = './OralCancer';\n",
    "# Image preprocessing\n",
    "processDataset(src, dest);"
   ]
  },
  {
   "cell_type": "code",
   "execution_count": 4,
   "id": "2f1b61c4",
   "metadata": {
    "execution": {
     "iopub.execute_input": "2024-03-13T16:53:24.123742Z",
     "iopub.status.busy": "2024-03-13T16:53:24.123244Z",
     "iopub.status.idle": "2024-03-13T16:53:24.132117Z",
     "shell.execute_reply": "2024-03-13T16:53:24.130779Z"
    },
    "papermill": {
     "duration": 0.023284,
     "end_time": "2024-03-13T16:53:24.135074",
     "exception": false,
     "start_time": "2024-03-13T16:53:24.111790",
     "status": "completed"
    },
    "tags": []
   },
   "outputs": [
    {
     "name": "stdout",
     "output_type": "stream",
     "text": [
      "{'non-cancer': 44, 'cancer': 64}\n"
     ]
    }
   ],
   "source": [
    "def GetDatasetSize(path):\n",
    "    num_of_image = {}\n",
    "    for folder in os.listdir(path):\n",
    "        # Counting the Number of Files in the Folder\n",
    "        num_of_image[folder] = len(os.listdir(os.path.join(path, folder)));\n",
    "    return num_of_image;\n",
    "    \n",
    "path = \"./OralCancer\"\n",
    "DatasetSize = GetDatasetSize(path);\n",
    "print(DatasetSize);"
   ]
  },
  {
   "cell_type": "code",
   "execution_count": 5,
   "id": "375b151d",
   "metadata": {
    "execution": {
     "iopub.execute_input": "2024-03-13T16:53:24.157001Z",
     "iopub.status.busy": "2024-03-13T16:53:24.156509Z",
     "iopub.status.idle": "2024-03-13T16:53:24.190900Z",
     "shell.execute_reply": "2024-03-13T16:53:24.189280Z"
    },
    "papermill": {
     "duration": 0.048294,
     "end_time": "2024-03-13T16:53:24.193602",
     "exception": false,
     "start_time": "2024-03-13T16:53:24.145308",
     "status": "completed"
    },
    "tags": []
   },
   "outputs": [
    {
     "name": "stdout",
     "output_type": "stream",
     "text": [
      "CANCER :\n",
      "Total images:  64\n",
      "Training:  44\n",
      "Validation:  10\n",
      "Testing:  10\n",
      "\n",
      "NON-CANCER :\n",
      "Total images:  44\n",
      "Training:  30\n",
      "Validation:  7\n",
      "Testing:  7\n",
      "\n"
     ]
    }
   ],
   "source": [
    "# Function for Creating Train / Validation / Test folders (One time use Only)\n",
    " \n",
    "def TrainValTestSplit(root_dir, classes_dir, val_ratio = 0.15, test_ratio = 0.15):\n",
    "    for cls in classes_dir:\n",
    "        # Creating Split Folders\n",
    "        os.makedirs('train/' + cls)\n",
    "        os.makedirs('val/' + cls)\n",
    "        os.makedirs('test/' + cls)\n",
    "\n",
    "        # Folder to copy images from\n",
    "        src = root_dir + cls\n",
    "        \n",
    "        # Storing the Filenames\n",
    "        allFileNames = os.listdir(src)\n",
    "        np.random.shuffle(allFileNames)\n",
    "        # Spliting the Files in the Given ratio\n",
    "        train_FileNames, val_FileNames, test_FileNames = np.split(np.array(allFileNames), [int(len(allFileNames)* (1 - (val_ratio + test_ratio))), int(len(allFileNames)* (1 - test_ratio))])\n",
    "\n",
    "        train_FileNames = [src+'/'+ name for name in train_FileNames.tolist()]\n",
    "        val_FileNames = [src+'/' + name for name in val_FileNames.tolist()]\n",
    "        test_FileNames = [src+'/' + name for name in test_FileNames.tolist()]\n",
    "\n",
    "        # Printing the Split Details\n",
    "        print(cls.upper(),':')\n",
    "        print('Total images: ', len(allFileNames))\n",
    "        print('Training: ', len(train_FileNames))\n",
    "        print('Validation: ', len(val_FileNames))\n",
    "        print('Testing: ', len(test_FileNames))\n",
    "\n",
    "        # Copy-pasting images\n",
    "        for name in train_FileNames:\n",
    "            shutil.copy(name, 'train/' + cls)\n",
    "\n",
    "        for name in val_FileNames:\n",
    "            shutil.copy(name, 'val/' + cls)\n",
    "            \n",
    "        for name in test_FileNames:\n",
    "            shutil.copy(name, 'test/' + cls)\n",
    "        print();\n",
    "\n",
    "# Preforming Train / Validation / Test Split\n",
    "root_dir = './OralCancer/'              # Dataset Root Folder\n",
    "classes_dir = ['cancer', 'non-cancer']  # Classes\n",
    "TrainValTestSplit(root_dir, classes_dir);"
   ]
  },
  {
   "cell_type": "code",
   "execution_count": 6,
   "id": "8fc1d060",
   "metadata": {
    "execution": {
     "iopub.execute_input": "2024-03-13T16:53:24.215288Z",
     "iopub.status.busy": "2024-03-13T16:53:24.214826Z",
     "iopub.status.idle": "2024-03-13T16:53:39.081572Z",
     "shell.execute_reply": "2024-03-13T16:53:39.080533Z"
    },
    "papermill": {
     "duration": 14.881296,
     "end_time": "2024-03-13T16:53:39.084720",
     "exception": false,
     "start_time": "2024-03-13T16:53:24.203424",
     "status": "completed"
    },
    "tags": []
   },
   "outputs": [
    {
     "name": "stderr",
     "output_type": "stream",
     "text": [
      "2024-03-13 16:53:26.684870: E external/local_xla/xla/stream_executor/cuda/cuda_dnn.cc:9261] Unable to register cuDNN factory: Attempting to register factory for plugin cuDNN when one has already been registered\n",
      "2024-03-13 16:53:26.685025: E external/local_xla/xla/stream_executor/cuda/cuda_fft.cc:607] Unable to register cuFFT factory: Attempting to register factory for plugin cuFFT when one has already been registered\n",
      "2024-03-13 16:53:26.846147: E external/local_xla/xla/stream_executor/cuda/cuda_blas.cc:1515] Unable to register cuBLAS factory: Attempting to register factory for plugin cuBLAS when one has already been registered\n"
     ]
    }
   ],
   "source": [
    "# Importing Keras for Image Classification\n",
    "import keras\n",
    "from keras.layers import Dense,Conv2D, Flatten, MaxPool2D, Dropout\n",
    "from keras.models import Sequential\n",
    "from keras.preprocessing import image\n",
    "from keras.callbacks import ModelCheckpoint\n",
    "from keras.models import load_model"
   ]
  },
  {
   "cell_type": "code",
   "execution_count": 7,
   "id": "a6d0c6c6",
   "metadata": {
    "execution": {
     "iopub.execute_input": "2024-03-13T16:53:39.107163Z",
     "iopub.status.busy": "2024-03-13T16:53:39.106276Z",
     "iopub.status.idle": "2024-03-13T16:53:39.441879Z",
     "shell.execute_reply": "2024-03-13T16:53:39.440640Z"
    },
    "papermill": {
     "duration": 0.349641,
     "end_time": "2024-03-13T16:53:39.444282",
     "exception": false,
     "start_time": "2024-03-13T16:53:39.094641",
     "status": "completed"
    },
    "tags": []
   },
   "outputs": [
    {
     "data": {
      "text/html": [
       "<pre style=\"white-space:pre;overflow-x:auto;line-height:normal;font-family:Menlo,'DejaVu Sans Mono',consolas,'Courier New',monospace\"><span style=\"font-weight: bold\">Model: \"sequential\"</span>\n",
       "</pre>\n"
      ],
      "text/plain": [
       "\u001b[1mModel: \"sequential\"\u001b[0m\n"
      ]
     },
     "metadata": {},
     "output_type": "display_data"
    },
    {
     "data": {
      "text/html": [
       "<pre style=\"white-space:pre;overflow-x:auto;line-height:normal;font-family:Menlo,'DejaVu Sans Mono',consolas,'Courier New',monospace\">┏━━━━━━━━━━━━━━━━━━━━━━━━━━━━━━━━━┳━━━━━━━━━━━━━━━━━━━━━━━━┳━━━━━━━━━━━━━━━┓\n",
       "┃<span style=\"font-weight: bold\"> Layer (type)                    </span>┃<span style=\"font-weight: bold\"> Output Shape           </span>┃<span style=\"font-weight: bold\">       Param # </span>┃\n",
       "┡━━━━━━━━━━━━━━━━━━━━━━━━━━━━━━━━━╇━━━━━━━━━━━━━━━━━━━━━━━━╇━━━━━━━━━━━━━━━┩\n",
       "│ conv2d (<span style=\"color: #0087ff; text-decoration-color: #0087ff\">Conv2D</span>)                 │ (<span style=\"color: #00d7ff; text-decoration-color: #00d7ff\">None</span>, <span style=\"color: #00af00; text-decoration-color: #00af00\">254</span>, <span style=\"color: #00af00; text-decoration-color: #00af00\">254</span>, <span style=\"color: #00af00; text-decoration-color: #00af00\">32</span>)   │           <span style=\"color: #00af00; text-decoration-color: #00af00\">896</span> │\n",
       "├─────────────────────────────────┼────────────────────────┼───────────────┤\n",
       "│ conv2d_1 (<span style=\"color: #0087ff; text-decoration-color: #0087ff\">Conv2D</span>)               │ (<span style=\"color: #00d7ff; text-decoration-color: #00d7ff\">None</span>, <span style=\"color: #00af00; text-decoration-color: #00af00\">252</span>, <span style=\"color: #00af00; text-decoration-color: #00af00\">252</span>, <span style=\"color: #00af00; text-decoration-color: #00af00\">32</span>)   │         <span style=\"color: #00af00; text-decoration-color: #00af00\">9,248</span> │\n",
       "├─────────────────────────────────┼────────────────────────┼───────────────┤\n",
       "│ max_pooling2d (<span style=\"color: #0087ff; text-decoration-color: #0087ff\">MaxPooling2D</span>)    │ (<span style=\"color: #00d7ff; text-decoration-color: #00d7ff\">None</span>, <span style=\"color: #00af00; text-decoration-color: #00af00\">126</span>, <span style=\"color: #00af00; text-decoration-color: #00af00\">126</span>, <span style=\"color: #00af00; text-decoration-color: #00af00\">32</span>)   │             <span style=\"color: #00af00; text-decoration-color: #00af00\">0</span> │\n",
       "├─────────────────────────────────┼────────────────────────┼───────────────┤\n",
       "│ conv2d_2 (<span style=\"color: #0087ff; text-decoration-color: #0087ff\">Conv2D</span>)               │ (<span style=\"color: #00d7ff; text-decoration-color: #00d7ff\">None</span>, <span style=\"color: #00af00; text-decoration-color: #00af00\">124</span>, <span style=\"color: #00af00; text-decoration-color: #00af00\">124</span>, <span style=\"color: #00af00; text-decoration-color: #00af00\">64</span>)   │        <span style=\"color: #00af00; text-decoration-color: #00af00\">18,496</span> │\n",
       "├─────────────────────────────────┼────────────────────────┼───────────────┤\n",
       "│ max_pooling2d_1 (<span style=\"color: #0087ff; text-decoration-color: #0087ff\">MaxPooling2D</span>)  │ (<span style=\"color: #00d7ff; text-decoration-color: #00d7ff\">None</span>, <span style=\"color: #00af00; text-decoration-color: #00af00\">62</span>, <span style=\"color: #00af00; text-decoration-color: #00af00\">62</span>, <span style=\"color: #00af00; text-decoration-color: #00af00\">64</span>)     │             <span style=\"color: #00af00; text-decoration-color: #00af00\">0</span> │\n",
       "├─────────────────────────────────┼────────────────────────┼───────────────┤\n",
       "│ conv2d_3 (<span style=\"color: #0087ff; text-decoration-color: #0087ff\">Conv2D</span>)               │ (<span style=\"color: #00d7ff; text-decoration-color: #00d7ff\">None</span>, <span style=\"color: #00af00; text-decoration-color: #00af00\">60</span>, <span style=\"color: #00af00; text-decoration-color: #00af00\">60</span>, <span style=\"color: #00af00; text-decoration-color: #00af00\">128</span>)    │        <span style=\"color: #00af00; text-decoration-color: #00af00\">73,856</span> │\n",
       "├─────────────────────────────────┼────────────────────────┼───────────────┤\n",
       "│ max_pooling2d_2 (<span style=\"color: #0087ff; text-decoration-color: #0087ff\">MaxPooling2D</span>)  │ (<span style=\"color: #00d7ff; text-decoration-color: #00d7ff\">None</span>, <span style=\"color: #00af00; text-decoration-color: #00af00\">30</span>, <span style=\"color: #00af00; text-decoration-color: #00af00\">30</span>, <span style=\"color: #00af00; text-decoration-color: #00af00\">128</span>)    │             <span style=\"color: #00af00; text-decoration-color: #00af00\">0</span> │\n",
       "├─────────────────────────────────┼────────────────────────┼───────────────┤\n",
       "│ dropout (<span style=\"color: #0087ff; text-decoration-color: #0087ff\">Dropout</span>)               │ (<span style=\"color: #00d7ff; text-decoration-color: #00d7ff\">None</span>, <span style=\"color: #00af00; text-decoration-color: #00af00\">30</span>, <span style=\"color: #00af00; text-decoration-color: #00af00\">30</span>, <span style=\"color: #00af00; text-decoration-color: #00af00\">128</span>)    │             <span style=\"color: #00af00; text-decoration-color: #00af00\">0</span> │\n",
       "├─────────────────────────────────┼────────────────────────┼───────────────┤\n",
       "│ flatten (<span style=\"color: #0087ff; text-decoration-color: #0087ff\">Flatten</span>)               │ (<span style=\"color: #00d7ff; text-decoration-color: #00d7ff\">None</span>, <span style=\"color: #00af00; text-decoration-color: #00af00\">115200</span>)         │             <span style=\"color: #00af00; text-decoration-color: #00af00\">0</span> │\n",
       "├─────────────────────────────────┼────────────────────────┼───────────────┤\n",
       "│ dense (<span style=\"color: #0087ff; text-decoration-color: #0087ff\">Dense</span>)                   │ (<span style=\"color: #00d7ff; text-decoration-color: #00d7ff\">None</span>, <span style=\"color: #00af00; text-decoration-color: #00af00\">64</span>)             │     <span style=\"color: #00af00; text-decoration-color: #00af00\">7,372,864</span> │\n",
       "├─────────────────────────────────┼────────────────────────┼───────────────┤\n",
       "│ dropout_1 (<span style=\"color: #0087ff; text-decoration-color: #0087ff\">Dropout</span>)             │ (<span style=\"color: #00d7ff; text-decoration-color: #00d7ff\">None</span>, <span style=\"color: #00af00; text-decoration-color: #00af00\">64</span>)             │             <span style=\"color: #00af00; text-decoration-color: #00af00\">0</span> │\n",
       "├─────────────────────────────────┼────────────────────────┼───────────────┤\n",
       "│ dense_1 (<span style=\"color: #0087ff; text-decoration-color: #0087ff\">Dense</span>)                 │ (<span style=\"color: #00d7ff; text-decoration-color: #00d7ff\">None</span>, <span style=\"color: #00af00; text-decoration-color: #00af00\">1</span>)              │            <span style=\"color: #00af00; text-decoration-color: #00af00\">65</span> │\n",
       "└─────────────────────────────────┴────────────────────────┴───────────────┘\n",
       "</pre>\n"
      ],
      "text/plain": [
       "┏━━━━━━━━━━━━━━━━━━━━━━━━━━━━━━━━━┳━━━━━━━━━━━━━━━━━━━━━━━━┳━━━━━━━━━━━━━━━┓\n",
       "┃\u001b[1m \u001b[0m\u001b[1mLayer (type)                   \u001b[0m\u001b[1m \u001b[0m┃\u001b[1m \u001b[0m\u001b[1mOutput Shape          \u001b[0m\u001b[1m \u001b[0m┃\u001b[1m \u001b[0m\u001b[1m      Param #\u001b[0m\u001b[1m \u001b[0m┃\n",
       "┡━━━━━━━━━━━━━━━━━━━━━━━━━━━━━━━━━╇━━━━━━━━━━━━━━━━━━━━━━━━╇━━━━━━━━━━━━━━━┩\n",
       "│ conv2d (\u001b[38;5;33mConv2D\u001b[0m)                 │ (\u001b[38;5;45mNone\u001b[0m, \u001b[38;5;34m254\u001b[0m, \u001b[38;5;34m254\u001b[0m, \u001b[38;5;34m32\u001b[0m)   │           \u001b[38;5;34m896\u001b[0m │\n",
       "├─────────────────────────────────┼────────────────────────┼───────────────┤\n",
       "│ conv2d_1 (\u001b[38;5;33mConv2D\u001b[0m)               │ (\u001b[38;5;45mNone\u001b[0m, \u001b[38;5;34m252\u001b[0m, \u001b[38;5;34m252\u001b[0m, \u001b[38;5;34m32\u001b[0m)   │         \u001b[38;5;34m9,248\u001b[0m │\n",
       "├─────────────────────────────────┼────────────────────────┼───────────────┤\n",
       "│ max_pooling2d (\u001b[38;5;33mMaxPooling2D\u001b[0m)    │ (\u001b[38;5;45mNone\u001b[0m, \u001b[38;5;34m126\u001b[0m, \u001b[38;5;34m126\u001b[0m, \u001b[38;5;34m32\u001b[0m)   │             \u001b[38;5;34m0\u001b[0m │\n",
       "├─────────────────────────────────┼────────────────────────┼───────────────┤\n",
       "│ conv2d_2 (\u001b[38;5;33mConv2D\u001b[0m)               │ (\u001b[38;5;45mNone\u001b[0m, \u001b[38;5;34m124\u001b[0m, \u001b[38;5;34m124\u001b[0m, \u001b[38;5;34m64\u001b[0m)   │        \u001b[38;5;34m18,496\u001b[0m │\n",
       "├─────────────────────────────────┼────────────────────────┼───────────────┤\n",
       "│ max_pooling2d_1 (\u001b[38;5;33mMaxPooling2D\u001b[0m)  │ (\u001b[38;5;45mNone\u001b[0m, \u001b[38;5;34m62\u001b[0m, \u001b[38;5;34m62\u001b[0m, \u001b[38;5;34m64\u001b[0m)     │             \u001b[38;5;34m0\u001b[0m │\n",
       "├─────────────────────────────────┼────────────────────────┼───────────────┤\n",
       "│ conv2d_3 (\u001b[38;5;33mConv2D\u001b[0m)               │ (\u001b[38;5;45mNone\u001b[0m, \u001b[38;5;34m60\u001b[0m, \u001b[38;5;34m60\u001b[0m, \u001b[38;5;34m128\u001b[0m)    │        \u001b[38;5;34m73,856\u001b[0m │\n",
       "├─────────────────────────────────┼────────────────────────┼───────────────┤\n",
       "│ max_pooling2d_2 (\u001b[38;5;33mMaxPooling2D\u001b[0m)  │ (\u001b[38;5;45mNone\u001b[0m, \u001b[38;5;34m30\u001b[0m, \u001b[38;5;34m30\u001b[0m, \u001b[38;5;34m128\u001b[0m)    │             \u001b[38;5;34m0\u001b[0m │\n",
       "├─────────────────────────────────┼────────────────────────┼───────────────┤\n",
       "│ dropout (\u001b[38;5;33mDropout\u001b[0m)               │ (\u001b[38;5;45mNone\u001b[0m, \u001b[38;5;34m30\u001b[0m, \u001b[38;5;34m30\u001b[0m, \u001b[38;5;34m128\u001b[0m)    │             \u001b[38;5;34m0\u001b[0m │\n",
       "├─────────────────────────────────┼────────────────────────┼───────────────┤\n",
       "│ flatten (\u001b[38;5;33mFlatten\u001b[0m)               │ (\u001b[38;5;45mNone\u001b[0m, \u001b[38;5;34m115200\u001b[0m)         │             \u001b[38;5;34m0\u001b[0m │\n",
       "├─────────────────────────────────┼────────────────────────┼───────────────┤\n",
       "│ dense (\u001b[38;5;33mDense\u001b[0m)                   │ (\u001b[38;5;45mNone\u001b[0m, \u001b[38;5;34m64\u001b[0m)             │     \u001b[38;5;34m7,372,864\u001b[0m │\n",
       "├─────────────────────────────────┼────────────────────────┼───────────────┤\n",
       "│ dropout_1 (\u001b[38;5;33mDropout\u001b[0m)             │ (\u001b[38;5;45mNone\u001b[0m, \u001b[38;5;34m64\u001b[0m)             │             \u001b[38;5;34m0\u001b[0m │\n",
       "├─────────────────────────────────┼────────────────────────┼───────────────┤\n",
       "│ dense_1 (\u001b[38;5;33mDense\u001b[0m)                 │ (\u001b[38;5;45mNone\u001b[0m, \u001b[38;5;34m1\u001b[0m)              │            \u001b[38;5;34m65\u001b[0m │\n",
       "└─────────────────────────────────┴────────────────────────┴───────────────┘\n"
      ]
     },
     "metadata": {},
     "output_type": "display_data"
    },
    {
     "data": {
      "text/html": [
       "<pre style=\"white-space:pre;overflow-x:auto;line-height:normal;font-family:Menlo,'DejaVu Sans Mono',consolas,'Courier New',monospace\"><span style=\"font-weight: bold\"> Total params: </span><span style=\"color: #00af00; text-decoration-color: #00af00\">7,475,425</span> (28.52 MB)\n",
       "</pre>\n"
      ],
      "text/plain": [
       "\u001b[1m Total params: \u001b[0m\u001b[38;5;34m7,475,425\u001b[0m (28.52 MB)\n"
      ]
     },
     "metadata": {},
     "output_type": "display_data"
    },
    {
     "data": {
      "text/html": [
       "<pre style=\"white-space:pre;overflow-x:auto;line-height:normal;font-family:Menlo,'DejaVu Sans Mono',consolas,'Courier New',monospace\"><span style=\"font-weight: bold\"> Trainable params: </span><span style=\"color: #00af00; text-decoration-color: #00af00\">7,475,425</span> (28.52 MB)\n",
       "</pre>\n"
      ],
      "text/plain": [
       "\u001b[1m Trainable params: \u001b[0m\u001b[38;5;34m7,475,425\u001b[0m (28.52 MB)\n"
      ]
     },
     "metadata": {},
     "output_type": "display_data"
    },
    {
     "data": {
      "text/html": [
       "<pre style=\"white-space:pre;overflow-x:auto;line-height:normal;font-family:Menlo,'DejaVu Sans Mono',consolas,'Courier New',monospace\"><span style=\"font-weight: bold\"> Non-trainable params: </span><span style=\"color: #00af00; text-decoration-color: #00af00\">0</span> (0.00 B)\n",
       "</pre>\n"
      ],
      "text/plain": [
       "\u001b[1m Non-trainable params: \u001b[0m\u001b[38;5;34m0\u001b[0m (0.00 B)\n"
      ]
     },
     "metadata": {},
     "output_type": "display_data"
    }
   ],
   "source": [
    "# CNN Model \n",
    "\n",
    "model = Sequential() \n",
    "\n",
    "# Convolutional Layer with input shape (256,256,3)\n",
    "model.add(Conv2D(filters=32, kernel_size= (3,3), activation= 'relu', input_shape=(256,256,3)) )\n",
    "\n",
    "model.add(Conv2D(filters=32, kernel_size=(3,3), activation='relu' ))\n",
    "model.add(MaxPool2D(pool_size=(2,2)))\n",
    "\n",
    "model.add(Conv2D(filters=64, kernel_size=(3,3), activation='relu' ))\n",
    "model.add(MaxPool2D(pool_size=(2,2)))\n",
    "\n",
    "model.add(Conv2D(filters=128, kernel_size=(3,3), activation='relu' ))\n",
    "model.add(MaxPool2D(pool_size=(2,2)))\n",
    "\n",
    "model.add(Dropout(rate=0.25))\n",
    "\n",
    "model.add(Flatten())\n",
    "model.add(Dense(units=64, activation='relu'))\n",
    "model.add(Dropout(rate=0.25))\n",
    "model.add(Dense(units=1, activation='sigmoid'))\n",
    "\n",
    "model.compile(optimizer='adam', loss='binary_crossentropy', metrics=['accuracy']  )\n",
    " \n",
    "model.summary()"
   ]
  },
  {
   "cell_type": "code",
   "execution_count": 8,
   "id": "9fc004c1",
   "metadata": {
    "execution": {
     "iopub.execute_input": "2024-03-13T16:53:39.468582Z",
     "iopub.status.busy": "2024-03-13T16:53:39.467653Z",
     "iopub.status.idle": "2024-03-13T16:53:39.476358Z",
     "shell.execute_reply": "2024-03-13T16:53:39.475115Z"
    },
    "papermill": {
     "duration": 0.023899,
     "end_time": "2024-03-13T16:53:39.478957",
     "exception": false,
     "start_time": "2024-03-13T16:53:39.455058",
     "status": "completed"
    },
    "tags": []
   },
   "outputs": [],
   "source": [
    "# Expand the size of dataset with new transformed images from the original dataset using ImageDataGenerator.\n",
    "from tensorflow.keras.preprocessing import image\n",
    "\n",
    "train_datagen = image.ImageDataGenerator(zoom_range = 0.2, shear_range = 0.2 , rescale = 1./255 , horizontal_flip=True)\n",
    "val_datagen = image.ImageDataGenerator(rescale = 1./255)\n",
    "test_datagen = image.ImageDataGenerator(rescale = 1./255)"
   ]
  },
  {
   "cell_type": "code",
   "execution_count": 9,
   "id": "044085b6",
   "metadata": {
    "execution": {
     "iopub.execute_input": "2024-03-13T16:53:39.503939Z",
     "iopub.status.busy": "2024-03-13T16:53:39.503146Z",
     "iopub.status.idle": "2024-03-13T16:53:39.519572Z",
     "shell.execute_reply": "2024-03-13T16:53:39.517947Z"
    },
    "papermill": {
     "duration": 0.031988,
     "end_time": "2024-03-13T16:53:39.522555",
     "exception": false,
     "start_time": "2024-03-13T16:53:39.490567",
     "status": "completed"
    },
    "tags": []
   },
   "outputs": [
    {
     "name": "stdout",
     "output_type": "stream",
     "text": [
      "Found 74 images belonging to 2 classes.\n"
     ]
    }
   ],
   "source": [
    "train_data = train_datagen.flow_from_directory(directory= \"./train\", target_size=(256,256), batch_size=32, class_mode = 'binary')"
   ]
  },
  {
   "cell_type": "code",
   "execution_count": 10,
   "id": "752fbc65",
   "metadata": {
    "execution": {
     "iopub.execute_input": "2024-03-13T16:53:39.547564Z",
     "iopub.status.busy": "2024-03-13T16:53:39.547054Z",
     "iopub.status.idle": "2024-03-13T16:53:39.555043Z",
     "shell.execute_reply": "2024-03-13T16:53:39.553614Z"
    },
    "papermill": {
     "duration": 0.023539,
     "end_time": "2024-03-13T16:53:39.557714",
     "exception": false,
     "start_time": "2024-03-13T16:53:39.534175",
     "status": "completed"
    },
    "tags": []
   },
   "outputs": [
    {
     "data": {
      "text/plain": [
       "{'cancer': 0, 'non-cancer': 1}"
      ]
     },
     "execution_count": 10,
     "metadata": {},
     "output_type": "execute_result"
    }
   ],
   "source": [
    "train_data.class_indices"
   ]
  },
  {
   "cell_type": "code",
   "execution_count": 11,
   "id": "551a071d",
   "metadata": {
    "execution": {
     "iopub.execute_input": "2024-03-13T16:53:39.584631Z",
     "iopub.status.busy": "2024-03-13T16:53:39.583383Z",
     "iopub.status.idle": "2024-03-13T16:53:39.595558Z",
     "shell.execute_reply": "2024-03-13T16:53:39.594467Z"
    },
    "papermill": {
     "duration": 0.02913,
     "end_time": "2024-03-13T16:53:39.598389",
     "exception": false,
     "start_time": "2024-03-13T16:53:39.569259",
     "status": "completed"
    },
    "tags": []
   },
   "outputs": [
    {
     "name": "stdout",
     "output_type": "stream",
     "text": [
      "Found 17 images belonging to 2 classes.\n"
     ]
    }
   ],
   "source": [
    "val_data = val_datagen.flow_from_directory(directory= \"./val\", target_size=(256,256), batch_size=32, class_mode = 'binary')"
   ]
  },
  {
   "cell_type": "code",
   "execution_count": 12,
   "id": "60bb95e7",
   "metadata": {
    "execution": {
     "iopub.execute_input": "2024-03-13T16:53:39.623804Z",
     "iopub.status.busy": "2024-03-13T16:53:39.622661Z",
     "iopub.status.idle": "2024-03-13T16:53:39.634644Z",
     "shell.execute_reply": "2024-03-13T16:53:39.633615Z"
    },
    "papermill": {
     "duration": 0.027554,
     "end_time": "2024-03-13T16:53:39.637392",
     "exception": false,
     "start_time": "2024-03-13T16:53:39.609838",
     "status": "completed"
    },
    "tags": []
   },
   "outputs": [
    {
     "name": "stdout",
     "output_type": "stream",
     "text": [
      "Found 17 images belonging to 2 classes.\n"
     ]
    }
   ],
   "source": [
    "test_data = test_datagen.flow_from_directory(directory= \"./test\", target_size=(256,256), batch_size=32, class_mode = 'binary')"
   ]
  },
  {
   "cell_type": "code",
   "execution_count": 13,
   "id": "9e410b75",
   "metadata": {
    "execution": {
     "iopub.execute_input": "2024-03-13T16:53:39.663142Z",
     "iopub.status.busy": "2024-03-13T16:53:39.662197Z",
     "iopub.status.idle": "2024-03-13T16:53:39.668356Z",
     "shell.execute_reply": "2024-03-13T16:53:39.667234Z"
    },
    "papermill": {
     "duration": 0.021308,
     "end_time": "2024-03-13T16:53:39.670622",
     "exception": false,
     "start_time": "2024-03-13T16:53:39.649314",
     "status": "completed"
    },
    "tags": []
   },
   "outputs": [],
   "source": [
    "# Adding Model check point Callback\n",
    "mc = ModelCheckpoint(filepath=\"oral_cancer_best_model.keras\", monitor='val_accuracy', verbose=1, save_best_only=True, mode='auto')\n",
    "call_back = [ mc ];"
   ]
  },
  {
   "cell_type": "code",
   "execution_count": 14,
   "id": "0586f3ac",
   "metadata": {
    "execution": {
     "iopub.execute_input": "2024-03-13T16:53:39.695839Z",
     "iopub.status.busy": "2024-03-13T16:53:39.694990Z",
     "iopub.status.idle": "2024-03-13T16:58:22.680737Z",
     "shell.execute_reply": "2024-03-13T16:58:22.679363Z"
    },
    "papermill": {
     "duration": 283.001771,
     "end_time": "2024-03-13T16:58:22.683972",
     "exception": false,
     "start_time": "2024-03-13T16:53:39.682201",
     "status": "completed"
    },
    "tags": []
   },
   "outputs": [
    {
     "name": "stdout",
     "output_type": "stream",
     "text": [
      "Epoch 1/32\n",
      "\u001b[1m2/2\u001b[0m \u001b[32m━━━━━━━━━━━━━━━━━━━━\u001b[0m\u001b[37m\u001b[0m \u001b[1m0s\u001b[0m 5s/step - accuracy: 0.4531 - loss: 0.8107\n",
      "Epoch 1: val_accuracy improved from -inf to 0.41176, saving model to oral_cancer_best_model.keras\n",
      "\u001b[1m2/2\u001b[0m \u001b[32m━━━━━━━━━━━━━━━━━━━━\u001b[0m\u001b[37m\u001b[0m \u001b[1m15s\u001b[0m 6s/step - accuracy: 0.4688 - loss: 0.8489 - val_accuracy: 0.4118 - val_loss: 0.7533\n",
      "Epoch 2/32\n",
      "\u001b[1m1/2\u001b[0m \u001b[32m━━━━━━━━━━\u001b[0m\u001b[37m━━━━━━━━━━\u001b[0m \u001b[1m1s\u001b[0m 2s/step - accuracy: 0.5000 - loss: 0.8099\n",
      "Epoch 2: val_accuracy did not improve from 0.41176\n",
      "\u001b[1m2/2\u001b[0m \u001b[32m━━━━━━━━━━━━━━━━━━━━\u001b[0m\u001b[37m\u001b[0m \u001b[1m2s\u001b[0m 36ms/step - accuracy: 0.5000 - loss: 0.6075 - val_accuracy: 0.0000e+00 - val_loss: 0.0000e+00\n",
      "Epoch 3/32\n",
      "\u001b[1m2/2\u001b[0m \u001b[32m━━━━━━━━━━━━━━━━━━━━\u001b[0m\u001b[37m\u001b[0m \u001b[1m0s\u001b[0m 5s/step - accuracy: 0.5881 - loss: 0.6836\n",
      "Epoch 3: val_accuracy did not improve from 0.41176\n",
      "\u001b[1m2/2\u001b[0m \u001b[32m━━━━━━━━━━━━━━━━━━━━\u001b[0m\u001b[37m\u001b[0m \u001b[1m8s\u001b[0m 5s/step - accuracy: 0.5508 - loss: 0.6911 - val_accuracy: 0.4118 - val_loss: 0.7138\n",
      "Epoch 4/32\n",
      "\u001b[1m1/2\u001b[0m \u001b[32m━━━━━━━━━━\u001b[0m\u001b[37m━━━━━━━━━━\u001b[0m \u001b[1m4s\u001b[0m 5s/step - accuracy: 0.2500 - loss: 0.7468\n",
      "Epoch 4: val_accuracy did not improve from 0.41176\n",
      "\u001b[1m2/2\u001b[0m \u001b[32m━━━━━━━━━━━━━━━━━━━━\u001b[0m\u001b[37m\u001b[0m \u001b[1m9s\u001b[0m 5s/step - accuracy: 0.2500 - loss: 0.5601 - val_accuracy: 0.0000e+00 - val_loss: 0.0000e+00\n",
      "Epoch 5/32\n",
      "\u001b[1m2/2\u001b[0m \u001b[32m━━━━━━━━━━━━━━━━━━━━\u001b[0m\u001b[37m\u001b[0m \u001b[1m0s\u001b[0m 1s/step - accuracy: 0.5707 - loss: 0.6967\n",
      "Epoch 5: val_accuracy improved from 0.41176 to 0.58824, saving model to oral_cancer_best_model.keras\n",
      "\u001b[1m2/2\u001b[0m \u001b[32m━━━━━━━━━━━━━━━━━━━━\u001b[0m\u001b[37m\u001b[0m \u001b[1m9s\u001b[0m 3s/step - accuracy: 0.5630 - loss: 0.6987 - val_accuracy: 0.5882 - val_loss: 0.6811\n",
      "Epoch 6/32\n",
      "\u001b[1m1/2\u001b[0m \u001b[32m━━━━━━━━━━\u001b[0m\u001b[37m━━━━━━━━━━\u001b[0m \u001b[1m4s\u001b[0m 5s/step - accuracy: 0.6562 - loss: 0.6542\n",
      "Epoch 6: val_accuracy did not improve from 0.58824\n",
      "\u001b[1m2/2\u001b[0m \u001b[32m━━━━━━━━━━━━━━━━━━━━\u001b[0m\u001b[37m\u001b[0m \u001b[1m5s\u001b[0m 21ms/step - accuracy: 0.6562 - loss: 0.4907 - val_accuracy: 0.0000e+00 - val_loss: 0.0000e+00\n",
      "Epoch 7/32\n",
      "\u001b[1m2/2\u001b[0m \u001b[32m━━━━━━━━━━━━━━━━━━━━\u001b[0m\u001b[37m\u001b[0m \u001b[1m0s\u001b[0m 5s/step - accuracy: 0.4095 - loss: 0.7730 \n",
      "Epoch 7: val_accuracy did not improve from 0.58824\n",
      "\u001b[1m2/2\u001b[0m \u001b[32m━━━━━━━━━━━━━━━━━━━━\u001b[0m\u001b[37m\u001b[0m \u001b[1m15s\u001b[0m 5s/step - accuracy: 0.4794 - loss: 0.7595 - val_accuracy: 0.5882 - val_loss: 0.6819\n",
      "Epoch 8/32\n",
      "\u001b[1m1/2\u001b[0m \u001b[32m━━━━━━━━━━\u001b[0m\u001b[37m━━━━━━━━━━\u001b[0m \u001b[1m5s\u001b[0m 5s/step - accuracy: 0.5625 - loss: 0.6879\n",
      "Epoch 8: val_accuracy did not improve from 0.58824\n",
      "\u001b[1m2/2\u001b[0m \u001b[32m━━━━━━━━━━━━━━━━━━━━\u001b[0m\u001b[37m\u001b[0m \u001b[1m5s\u001b[0m 28ms/step - accuracy: 0.5625 - loss: 0.5159 - val_accuracy: 0.0000e+00 - val_loss: 0.0000e+00\n",
      "Epoch 9/32\n",
      "\u001b[1m2/2\u001b[0m \u001b[32m━━━━━━━━━━━━━━━━━━━━\u001b[0m\u001b[37m\u001b[0m \u001b[1m0s\u001b[0m 5s/step - accuracy: 0.5938 - loss: 0.6850\n",
      "Epoch 9: val_accuracy did not improve from 0.58824\n",
      "\u001b[1m2/2\u001b[0m \u001b[32m━━━━━━━━━━━━━━━━━━━━\u001b[0m\u001b[37m\u001b[0m \u001b[1m11s\u001b[0m 5s/step - accuracy: 0.5938 - loss: 0.6847 - val_accuracy: 0.5882 - val_loss: 0.6788\n",
      "Epoch 10/32\n",
      "\u001b[1m1/2\u001b[0m \u001b[32m━━━━━━━━━━\u001b[0m\u001b[37m━━━━━━━━━━\u001b[0m \u001b[1m1s\u001b[0m 1s/step - accuracy: 0.6000 - loss: 0.6667\n",
      "Epoch 10: val_accuracy did not improve from 0.58824\n",
      "\u001b[1m2/2\u001b[0m \u001b[32m━━━━━━━━━━━━━━━━━━━━\u001b[0m\u001b[37m\u001b[0m \u001b[1m2s\u001b[0m 19ms/step - accuracy: 0.6000 - loss: 0.5000 - val_accuracy: 0.0000e+00 - val_loss: 0.0000e+00\n",
      "Epoch 11/32\n",
      "\u001b[1m2/2\u001b[0m \u001b[32m━━━━━━━━━━━━━━━━━━━━\u001b[0m\u001b[37m\u001b[0m \u001b[1m0s\u001b[0m 5s/step - accuracy: 0.5238 - loss: 0.6830  \n",
      "Epoch 11: val_accuracy did not improve from 0.58824\n",
      "\u001b[1m2/2\u001b[0m \u001b[32m━━━━━━━━━━━━━━━━━━━━\u001b[0m\u001b[37m\u001b[0m \u001b[1m16s\u001b[0m 5s/step - accuracy: 0.5317 - loss: 0.6824 - val_accuracy: 0.5882 - val_loss: 0.6698\n",
      "Epoch 12/32\n",
      "\u001b[1m1/2\u001b[0m \u001b[32m━━━━━━━━━━\u001b[0m\u001b[37m━━━━━━━━━━\u001b[0m \u001b[1m5s\u001b[0m 5s/step - accuracy: 0.6562 - loss: 0.6396\n",
      "Epoch 12: val_accuracy did not improve from 0.58824\n",
      "\u001b[1m2/2\u001b[0m \u001b[32m━━━━━━━━━━━━━━━━━━━━\u001b[0m\u001b[37m\u001b[0m \u001b[1m10s\u001b[0m 5s/step - accuracy: 0.6562 - loss: 0.4797 - val_accuracy: 0.0000e+00 - val_loss: 0.0000e+00\n",
      "Epoch 13/32\n",
      "\u001b[1m2/2\u001b[0m \u001b[32m━━━━━━━━━━━━━━━━━━━━\u001b[0m\u001b[37m\u001b[0m \u001b[1m0s\u001b[0m 5s/step - accuracy: 0.5625 - loss: 0.6711\n",
      "Epoch 13: val_accuracy did not improve from 0.58824\n",
      "\u001b[1m2/2\u001b[0m \u001b[32m━━━━━━━━━━━━━━━━━━━━\u001b[0m\u001b[37m\u001b[0m \u001b[1m14s\u001b[0m 5s/step - accuracy: 0.5729 - loss: 0.6643 - val_accuracy: 0.5882 - val_loss: 0.6770\n",
      "Epoch 14/32\n",
      "\u001b[1m1/2\u001b[0m \u001b[32m━━━━━━━━━━\u001b[0m\u001b[37m━━━━━━━━━━\u001b[0m \u001b[1m1s\u001b[0m 2s/step - accuracy: 0.6000 - loss: 0.7027\n",
      "Epoch 14: val_accuracy did not improve from 0.58824\n",
      "\u001b[1m2/2\u001b[0m \u001b[32m━━━━━━━━━━━━━━━━━━━━\u001b[0m\u001b[37m\u001b[0m \u001b[1m2s\u001b[0m 23ms/step - accuracy: 0.6000 - loss: 0.5270 - val_accuracy: 0.0000e+00 - val_loss: 0.0000e+00\n",
      "Epoch 15/32\n",
      "\u001b[1m2/2\u001b[0m \u001b[32m━━━━━━━━━━━━━━━━━━━━\u001b[0m\u001b[37m\u001b[0m \u001b[1m0s\u001b[0m 2s/step - accuracy: 0.6220 - loss: 0.6354\n",
      "Epoch 15: val_accuracy did not improve from 0.58824\n",
      "\u001b[1m2/2\u001b[0m \u001b[32m━━━━━━━━━━━━━━━━━━━━\u001b[0m\u001b[37m\u001b[0m \u001b[1m8s\u001b[0m 2s/step - accuracy: 0.6210 - loss: 0.6345 - val_accuracy: 0.5882 - val_loss: 0.6553\n",
      "Epoch 16/32\n",
      "\u001b[1m1/2\u001b[0m \u001b[32m━━━━━━━━━━\u001b[0m\u001b[37m━━━━━━━━━━\u001b[0m \u001b[1m4s\u001b[0m 5s/step - accuracy: 0.5625 - loss: 0.6395\n",
      "Epoch 16: val_accuracy did not improve from 0.58824\n",
      "\u001b[1m2/2\u001b[0m \u001b[32m━━━━━━━━━━━━━━━━━━━━\u001b[0m\u001b[37m\u001b[0m \u001b[1m9s\u001b[0m 4s/step - accuracy: 0.5625 - loss: 0.4796 - val_accuracy: 0.0000e+00 - val_loss: 0.0000e+00\n",
      "Epoch 17/32\n",
      "\u001b[1m2/2\u001b[0m \u001b[32m━━━━━━━━━━━━━━━━━━━━\u001b[0m\u001b[37m\u001b[0m \u001b[1m0s\u001b[0m 5s/step - accuracy: 0.6875 - loss: 0.6122\n",
      "Epoch 17: val_accuracy did not improve from 0.58824\n",
      "\u001b[1m2/2\u001b[0m \u001b[32m━━━━━━━━━━━━━━━━━━━━\u001b[0m\u001b[37m\u001b[0m \u001b[1m14s\u001b[0m 5s/step - accuracy: 0.6667 - loss: 0.6325 - val_accuracy: 0.5882 - val_loss: 0.6474\n",
      "Epoch 18/32\n",
      "\u001b[1m1/2\u001b[0m \u001b[32m━━━━━━━━━━\u001b[0m\u001b[37m━━━━━━━━━━\u001b[0m \u001b[1m1s\u001b[0m 2s/step - accuracy: 0.4000 - loss: 0.6631\n",
      "Epoch 18: val_accuracy did not improve from 0.58824\n",
      "\u001b[1m2/2\u001b[0m \u001b[32m━━━━━━━━━━━━━━━━━━━━\u001b[0m\u001b[37m\u001b[0m \u001b[1m2s\u001b[0m 19ms/step - accuracy: 0.4000 - loss: 0.4973 - val_accuracy: 0.0000e+00 - val_loss: 0.0000e+00\n",
      "Epoch 19/32\n",
      "\u001b[1m2/2\u001b[0m \u001b[32m━━━━━━━━━━━━━━━━━━━━\u001b[0m\u001b[37m\u001b[0m \u001b[1m0s\u001b[0m 5s/step - accuracy: 0.3500 - loss: 0.7159\n",
      "Epoch 19: val_accuracy improved from 0.58824 to 0.64706, saving model to oral_cancer_best_model.keras\n",
      "\u001b[1m2/2\u001b[0m \u001b[32m━━━━━━━━━━━━━━━━━━━━\u001b[0m\u001b[37m\u001b[0m \u001b[1m9s\u001b[0m 6s/step - accuracy: 0.4000 - loss: 0.7115 - val_accuracy: 0.6471 - val_loss: 0.6876\n",
      "Epoch 20/32\n",
      "\u001b[1m1/2\u001b[0m \u001b[32m━━━━━━━━━━\u001b[0m\u001b[37m━━━━━━━━━━\u001b[0m \u001b[1m4s\u001b[0m 5s/step - accuracy: 0.6250 - loss: 0.6829\n",
      "Epoch 20: val_accuracy did not improve from 0.64706\n",
      "\u001b[1m2/2\u001b[0m \u001b[32m━━━━━━━━━━━━━━━━━━━━\u001b[0m\u001b[37m\u001b[0m \u001b[1m9s\u001b[0m 4s/step - accuracy: 0.6250 - loss: 0.5122 - val_accuracy: 0.0000e+00 - val_loss: 0.0000e+00\n",
      "Epoch 21/32\n",
      "\u001b[1m2/2\u001b[0m \u001b[32m━━━━━━━━━━━━━━━━━━━━\u001b[0m\u001b[37m\u001b[0m \u001b[1m0s\u001b[0m 5s/step - accuracy: 0.5976 - loss: 0.6878\n",
      "Epoch 21: val_accuracy did not improve from 0.64706\n",
      "\u001b[1m2/2\u001b[0m \u001b[32m━━━━━━━━━━━━━━━━━━━━\u001b[0m\u001b[37m\u001b[0m \u001b[1m11s\u001b[0m 5s/step - accuracy: 0.5968 - loss: 0.6876 - val_accuracy: 0.4706 - val_loss: 0.6937\n",
      "Epoch 22/32\n",
      "\u001b[1m1/2\u001b[0m \u001b[32m━━━━━━━━━━\u001b[0m\u001b[37m━━━━━━━━━━\u001b[0m \u001b[1m4s\u001b[0m 5s/step - accuracy: 0.4688 - loss: 0.6897\n",
      "Epoch 22: val_accuracy did not improve from 0.64706\n",
      "\u001b[1m2/2\u001b[0m \u001b[32m━━━━━━━━━━━━━━━━━━━━\u001b[0m\u001b[37m\u001b[0m \u001b[1m5s\u001b[0m 23ms/step - accuracy: 0.4688 - loss: 0.5173 - val_accuracy: 0.0000e+00 - val_loss: 0.0000e+00\n",
      "Epoch 23/32\n",
      "\u001b[1m2/2\u001b[0m \u001b[32m━━━━━━━━━━━━━━━━━━━━\u001b[0m\u001b[37m\u001b[0m \u001b[1m0s\u001b[0m 5s/step - accuracy: 0.5833 - loss: 0.6888\n",
      "Epoch 23: val_accuracy did not improve from 0.64706\n",
      "\u001b[1m2/2\u001b[0m \u001b[32m━━━━━━━━━━━━━━━━━━━━\u001b[0m\u001b[37m\u001b[0m \u001b[1m8s\u001b[0m 6s/step - accuracy: 0.6111 - loss: 0.6882 - val_accuracy: 0.5882 - val_loss: 0.6895\n",
      "Epoch 24/32\n",
      "\u001b[1m1/2\u001b[0m \u001b[32m━━━━━━━━━━\u001b[0m\u001b[37m━━━━━━━━━━\u001b[0m \u001b[1m4s\u001b[0m 5s/step - accuracy: 0.5000 - loss: 0.6732\n",
      "Epoch 24: val_accuracy did not improve from 0.64706\n",
      "\u001b[1m2/2\u001b[0m \u001b[32m━━━━━━━━━━━━━━━━━━━━\u001b[0m\u001b[37m\u001b[0m \u001b[1m5s\u001b[0m 24ms/step - accuracy: 0.5000 - loss: 0.5049 - val_accuracy: 0.0000e+00 - val_loss: 0.0000e+00\n",
      "Epoch 25/32\n",
      "\u001b[1m2/2\u001b[0m \u001b[32m━━━━━━━━━━━━━━━━━━━━\u001b[0m\u001b[37m\u001b[0m \u001b[1m0s\u001b[0m 2s/step - accuracy: 0.6183 - loss: 0.6504  \n",
      "Epoch 25: val_accuracy did not improve from 0.64706\n",
      "\u001b[1m2/2\u001b[0m \u001b[32m━━━━━━━━━━━━━━━━━━━━\u001b[0m\u001b[37m\u001b[0m \u001b[1m15s\u001b[0m 2s/step - accuracy: 0.6265 - loss: 0.6478 - val_accuracy: 0.5882 - val_loss: 0.7106\n",
      "Epoch 26/32\n",
      "\u001b[1m1/2\u001b[0m \u001b[32m━━━━━━━━━━\u001b[0m\u001b[37m━━━━━━━━━━\u001b[0m \u001b[1m4s\u001b[0m 5s/step - accuracy: 0.5312 - loss: 0.7315\n",
      "Epoch 26: val_accuracy did not improve from 0.64706\n",
      "\u001b[1m2/2\u001b[0m \u001b[32m━━━━━━━━━━━━━━━━━━━━\u001b[0m\u001b[37m\u001b[0m \u001b[1m10s\u001b[0m 5s/step - accuracy: 0.5312 - loss: 0.5486 - val_accuracy: 0.0000e+00 - val_loss: 0.0000e+00\n",
      "Epoch 27/32\n",
      "\u001b[1m2/2\u001b[0m \u001b[32m━━━━━━━━━━━━━━━━━━━━\u001b[0m\u001b[37m\u001b[0m \u001b[1m0s\u001b[0m 5s/step - accuracy: 0.5976 - loss: 0.6103\n",
      "Epoch 27: val_accuracy did not improve from 0.64706\n",
      "\u001b[1m2/2\u001b[0m \u001b[32m━━━━━━━━━━━━━━━━━━━━\u001b[0m\u001b[37m\u001b[0m \u001b[1m11s\u001b[0m 5s/step - accuracy: 0.5968 - loss: 0.6157 - val_accuracy: 0.5882 - val_loss: 0.6886\n",
      "Epoch 28/32\n",
      "\u001b[1m1/2\u001b[0m \u001b[32m━━━━━━━━━━\u001b[0m\u001b[37m━━━━━━━━━━\u001b[0m \u001b[1m4s\u001b[0m 5s/step - accuracy: 0.5938 - loss: 0.6358\n",
      "Epoch 28: val_accuracy did not improve from 0.64706\n",
      "\u001b[1m2/2\u001b[0m \u001b[32m━━━━━━━━━━━━━━━━━━━━\u001b[0m\u001b[37m\u001b[0m \u001b[1m10s\u001b[0m 5s/step - accuracy: 0.5938 - loss: 0.4769 - val_accuracy: 0.0000e+00 - val_loss: 0.0000e+00\n",
      "Epoch 29/32\n",
      "\u001b[1m2/2\u001b[0m \u001b[32m━━━━━━━━━━━━━━━━━━━━\u001b[0m\u001b[37m\u001b[0m \u001b[1m0s\u001b[0m 2s/step - accuracy: 0.5908 - loss: 0.6450\n",
      "Epoch 29: val_accuracy did not improve from 0.64706\n",
      "\u001b[1m2/2\u001b[0m \u001b[32m━━━━━━━━━━━━━━━━━━━━\u001b[0m\u001b[37m\u001b[0m \u001b[1m11s\u001b[0m 2s/step - accuracy: 0.6002 - loss: 0.6356 - val_accuracy: 0.6471 - val_loss: 0.6830\n",
      "Epoch 30/32\n",
      "\u001b[1m1/2\u001b[0m \u001b[32m━━━━━━━━━━\u001b[0m\u001b[37m━━━━━━━━━━\u001b[0m \u001b[1m4s\u001b[0m 5s/step - accuracy: 0.5625 - loss: 0.6031\n",
      "Epoch 30: val_accuracy did not improve from 0.64706\n",
      "\u001b[1m2/2\u001b[0m \u001b[32m━━━━━━━━━━━━━━━━━━━━\u001b[0m\u001b[37m\u001b[0m \u001b[1m9s\u001b[0m 4s/step - accuracy: 0.5625 - loss: 0.4523 - val_accuracy: 0.0000e+00 - val_loss: 0.0000e+00\n",
      "Epoch 31/32\n",
      "\u001b[1m2/2\u001b[0m \u001b[32m━━━━━━━━━━━━━━━━━━━━\u001b[0m\u001b[37m\u001b[0m \u001b[1m0s\u001b[0m 5s/step - accuracy: 0.6250 - loss: 0.6062\n",
      "Epoch 31: val_accuracy did not improve from 0.64706\n",
      "\u001b[1m2/2\u001b[0m \u001b[32m━━━━━━━━━━━━━━━━━━━━\u001b[0m\u001b[37m\u001b[0m \u001b[1m14s\u001b[0m 5s/step - accuracy: 0.6250 - loss: 0.6090 - val_accuracy: 0.4118 - val_loss: 0.6954\n",
      "Epoch 32/32\n",
      "\u001b[1m1/2\u001b[0m \u001b[32m━━━━━━━━━━\u001b[0m\u001b[37m━━━━━━━━━━\u001b[0m \u001b[1m1s\u001b[0m 1s/step - accuracy: 0.8000 - loss: 0.5670\n",
      "Epoch 32: val_accuracy did not improve from 0.64706\n",
      "\u001b[1m2/2\u001b[0m \u001b[32m━━━━━━━━━━━━━━━━━━━━\u001b[0m\u001b[37m\u001b[0m \u001b[1m2s\u001b[0m 28ms/step - accuracy: 0.8000 - loss: 0.4252 - val_accuracy: 0.0000e+00 - val_loss: 0.0000e+00\n"
     ]
    }
   ],
   "source": [
    "# Fitting the Model\n",
    "cnn = model.fit(train_data, \n",
    "                  steps_per_epoch = 2, \n",
    "                  epochs = 32, \n",
    "                  validation_data = val_data, \n",
    "                  validation_steps = 1,\n",
    "                  callbacks = call_back )"
   ]
  },
  {
   "cell_type": "code",
   "execution_count": 15,
   "id": "70ce2c8a",
   "metadata": {
    "execution": {
     "iopub.execute_input": "2024-03-13T16:58:22.736411Z",
     "iopub.status.busy": "2024-03-13T16:58:22.735948Z",
     "iopub.status.idle": "2024-03-13T16:58:23.534319Z",
     "shell.execute_reply": "2024-03-13T16:58:23.532868Z"
    },
    "papermill": {
     "duration": 0.827694,
     "end_time": "2024-03-13T16:58:23.536864",
     "exception": false,
     "start_time": "2024-03-13T16:58:22.709170",
     "status": "completed"
    },
    "tags": []
   },
   "outputs": [
    {
     "name": "stdout",
     "output_type": "stream",
     "text": [
      "\u001b[1m1/1\u001b[0m \u001b[32m━━━━━━━━━━━━━━━━━━━━\u001b[0m\u001b[37m\u001b[0m \u001b[1m1s\u001b[0m 717ms/step - accuracy: 0.8235 - loss: 0.5642\n",
      "The accuracy of the model is = 82.35294222831726 %\n"
     ]
    }
   ],
   "source": [
    "# Checking the Accuracy of the Model \n",
    "accuracy = model.evaluate(test_data)[1]\n",
    "print(f\"The accuracy of the model is = {accuracy * 100} %\")"
   ]
  },
  {
   "cell_type": "code",
   "execution_count": 16,
   "id": "698b42da",
   "metadata": {
    "execution": {
     "iopub.execute_input": "2024-03-13T16:58:23.592926Z",
     "iopub.status.busy": "2024-03-13T16:58:23.592150Z",
     "iopub.status.idle": "2024-03-13T16:58:23.598447Z",
     "shell.execute_reply": "2024-03-13T16:58:23.597611Z"
    },
    "papermill": {
     "duration": 0.037289,
     "end_time": "2024-03-13T16:58:23.600748",
     "exception": false,
     "start_time": "2024-03-13T16:58:23.563459",
     "status": "completed"
    },
    "tags": []
   },
   "outputs": [
    {
     "data": {
      "text/plain": [
       "dict_keys(['accuracy', 'loss', 'val_accuracy', 'val_loss'])"
      ]
     },
     "execution_count": 16,
     "metadata": {},
     "output_type": "execute_result"
    }
   ],
   "source": [
    "h =  cnn.history\n",
    "h.keys()"
   ]
  },
  {
   "cell_type": "code",
   "execution_count": 17,
   "id": "5468e750",
   "metadata": {
    "execution": {
     "iopub.execute_input": "2024-03-13T16:58:23.655613Z",
     "iopub.status.busy": "2024-03-13T16:58:23.654667Z",
     "iopub.status.idle": "2024-03-13T16:58:23.997098Z",
     "shell.execute_reply": "2024-03-13T16:58:23.995918Z"
    },
    "papermill": {
     "duration": 0.373655,
     "end_time": "2024-03-13T16:58:24.000307",
     "exception": false,
     "start_time": "2024-03-13T16:58:23.626652",
     "status": "completed"
    },
    "tags": []
   },
   "outputs": [
    {
     "data": {
      "image/png": "[encoded data removed]",
      "text/plain": [
       "<Figure size 640x480 with 1 Axes>"
      ]
     },
     "metadata": {},
     "output_type": "display_data"
    }
   ],
   "source": [
    "# Ploting Accuracy In Training Set & Validation Set\n",
    "plt.plot(h['accuracy'])\n",
    "plt.plot(h['val_accuracy'] , c = \"red\")\n",
    "plt.title(\"acc vs v-acc\")\n",
    "plt.show()"
   ]
  },
  {
   "cell_type": "code",
   "execution_count": 18,
   "id": "3d70fd18",
   "metadata": {
    "execution": {
     "iopub.execute_input": "2024-03-13T16:58:24.057016Z",
     "iopub.status.busy": "2024-03-13T16:58:24.056522Z",
     "iopub.status.idle": "2024-03-13T16:58:24.351509Z",
     "shell.execute_reply": "2024-03-13T16:58:24.349755Z"
    },
    "papermill": {
     "duration": 0.327137,
     "end_time": "2024-03-13T16:58:24.354894",
     "exception": false,
     "start_time": "2024-03-13T16:58:24.027757",
     "status": "completed"
    },
    "tags": []
   },
   "outputs": [
    {
     "data": {
      "image/png": "[encoded data removed]",
      "text/plain": [
       "<Figure size 640x480 with 1 Axes>"
      ]
     },
     "metadata": {},
     "output_type": "display_data"
    }
   ],
   "source": [
    "# Ploting Loss In Training Set & Validation Set\n",
    "plt.plot(h['loss'])\n",
    "plt.plot(h['val_loss'] , c = \"red\")\n",
    "plt.title(\"loss vs v-loss\")\n",
    "plt.show()"
   ]
  },
  {
   "cell_type": "code",
   "execution_count": 19,
   "id": "0d1a74c5",
   "metadata": {
    "execution": {
     "iopub.execute_input": "2024-03-13T16:58:24.433023Z",
     "iopub.status.busy": "2024-03-13T16:58:24.431343Z",
     "iopub.status.idle": "2024-03-13T16:58:24.700684Z",
     "shell.execute_reply": "2024-03-13T16:58:24.699578Z"
    },
    "papermill": {
     "duration": 0.3133,
     "end_time": "2024-03-13T16:58:24.703373",
     "exception": false,
     "start_time": "2024-03-13T16:58:24.390073",
     "status": "completed"
    },
    "tags": []
   },
   "outputs": [
    {
     "name": "stdout",
     "output_type": "stream",
     "text": [
      "\u001b[1m1/1\u001b[0m \u001b[32m━━━━━━━━━━━━━━━━━━━━\u001b[0m\u001b[37m\u001b[0m \u001b[1m0s\u001b[0m 147ms/step\n",
      "Non-Cancer\n"
     ]
    }
   ],
   "source": [
    "def cancerPrediction(path):\n",
    "    # Loading Image\n",
    "    img = image.load_img(path, target_size=(256,256))\n",
    "    # Normalizing Image\n",
    "    norm_img = image.img_to_array(img)/255\n",
    "    # Converting Image to Numpy Array\n",
    "    input_arr_img = np.array([norm_img])\n",
    "    # Getting Predictions\n",
    "    pred = (model.predict(input_arr_img) > 0.5).astype(int)[0][0]\n",
    "    # Printing Model Prediction\n",
    "    if pred == 0:\n",
    "        print(\"Cancer\")\n",
    "    else:\n",
    "        print(\"Non-Cancer\")\n",
    "    \n",
    "# Path for the image to get predictions    \n",
    "path = \"../input/oral-cancer-lips-and-tongue-images/OralCancer/cancer/01960a64-cfe8-444d-bbc5-575c15389a21.jpg\"\n",
    "cancerPrediction(path)"
   ]
  }
 ],
 "metadata": {
  "kaggle": {
   "accelerator": "none",
   "dataSources": [
    {
     "datasetId": 908874,
     "sourceId": 1541124,
     "sourceType": "datasetVersion"
    }
   ],
   "dockerImageVersionId": 30664,
   "isGpuEnabled": false,
   "isInternetEnabled": true,
   "language": "python",
   "sourceType": "notebook"
  },
  "kernelspec": {
   "display_name": "Python 3",
   "language": "python",
   "name": "python3"
  },
  "language_info": {
   "codemirror_mode": {
    "name": "ipython",
    "version": 3
   },
   "file_extension": ".py",
   "mimetype": "text/x-python",
   "name": "python",
   "nbconvert_exporter": "python",
   "pygments_lexer": "ipython3",
   "version": "3.10.13"
  },
  "papermill": {
   "default_parameters": {},
   "duration": 321.451502,
   "end_time": "2024-03-13T16:58:27.372455",
   "environment_variables": {},
   "exception": null,
   "input_path": "__notebook__.ipynb",
   "output_path": "__notebook__.ipynb",
   "parameters": {},
   "start_time": "2024-03-13T16:53:05.920953",
   "version": "2.5.0"
  }
 },
 "nbformat": 4,
 "nbformat_minor": 5
}
